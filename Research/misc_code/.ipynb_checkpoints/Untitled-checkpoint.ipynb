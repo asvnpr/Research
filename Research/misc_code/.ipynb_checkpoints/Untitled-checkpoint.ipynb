{
 "cells": [
  {
   "cell_type": "code",
   "execution_count": 1,
   "metadata": {},
   "outputs": [
    {
     "ename": "TabError",
     "evalue": "inconsistent use of tabs and spaces in indentation (<ipython-input-1-c4a43edae115>, line 16)",
     "output_type": "error",
     "traceback": [
      "\u001b[0;36m  File \u001b[0;32m\"<ipython-input-1-c4a43edae115>\"\u001b[0;36m, line \u001b[0;32m16\u001b[0m\n\u001b[0;31m    dic[y] = dic[y] + [str(i)]\u001b[0m\n\u001b[0m                              ^\u001b[0m\n\u001b[0;31mTabError\u001b[0m\u001b[0;31m:\u001b[0m inconsistent use of tabs and spaces in indentation\n"
     ]
    }
   ],
   "source": [
    "n = input()\n",
    "n = int(n)\n",
    "\n",
    "for x in range(n):\n",
    "\tinp = input()\n",
    "\tinp = inp.split(' ')\n",
    "\ta = inp[0]\n",
    "\tb = inp[1]\n",
    "\n",
    "\tl = list(range(a, b+1))\n",
    "\n",
    "\tdic = {0:[],1:[],2:[],3:[],4:[],5:[],6:[],7:[],8:[],9:[]}\n",
    "\tfor y in range(10):\n",
    "\t\tfor i in l:\n",
    "\t\t\tif(str(i)[0] == str(y)):\n",
    "                dic[y] = dic[y] + [str(i)]\n",
    "    print(dic)\n",
    "                "
   ]
  }
 ],
 "metadata": {
  "kernelspec": {
   "display_name": "Python 3",
   "language": "python",
   "name": "python3"
  },
  "language_info": {
   "codemirror_mode": {
    "name": "ipython",
    "version": 3
   },
   "file_extension": ".py",
   "mimetype": "text/x-python",
   "name": "python",
   "nbconvert_exporter": "python",
   "pygments_lexer": "ipython3",
   "version": "3.6.2"
  }
 },
 "nbformat": 4,
 "nbformat_minor": 2
}
