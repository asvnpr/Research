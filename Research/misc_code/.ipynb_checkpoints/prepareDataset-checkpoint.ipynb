{
 "cells": [
  {
   "cell_type": "code",
   "execution_count": 2,
   "metadata": {
    "collapsed": true
   },
   "outputs": [],
   "source": [
    "from six.moves import cPickle as pickle\n",
    "import os\n",
    "import shutil\n",
    "from PIL import Image, ImageOps\n",
    "import numpy as np\n",
    "import matplotlib.pyplot as plt\n",
    "from IPython.display import display as disp # conflicting library function names\n",
    "from IPython.display import Image as Im # conflicting library function names\n",
    "from scipy import ndimage\n",
    "import random"
   ]
  },
  {
   "cell_type": "markdown",
   "metadata": {},
   "source": [
    "We have our raw image dataset. Now we can resize and reshape our images pickle it for convenience and prepare the dataset to be labeled."
   ]
  },
  {
   "cell_type": "code",
   "execution_count": 3,
   "metadata": {
    "collapsed": true
   },
   "outputs": [],
   "source": [
    "def squareAndGrayImage(image, size, path, species, name):\n",
    "    # open our image and convert to grayscale \n",
    "    # (needed since color channels add a third dimmension)\n",
    "    im = Image.open(image).convert('L')\n",
    "    # dimmensions of square image\n",
    "    size = (size,size)\n",
    "    # resize our image and adjust if image is not square. save our image\n",
    "    squared_image = ImageOps.fit(im, size, Image.ANTIALIAS)\n",
    "    squared_image.save(path + '/' + species + '/squared_' + name)\n",
    "    #print(ndimage.imread(path + '/' + species + '/squared_' + name).shape)\n",
    "    \n",
    "def squareAndGrayProcess(size, dataset_path, new_dataset_path):\n",
    "    # if our dataset doesn't exist create it, otherwise overwrite\n",
    "    if not os.path.exists(new_dataset_path):\n",
    "        os.makedirs(new_dataset_path)\n",
    "    else:\n",
    "        shutil.rmtree(new_dataset_path)\n",
    "        os.makedirs(new_dataset_path)\n",
    "    \n",
    "    # get a list of species folders in our dataset\n",
    "    species_dataset = os.listdir(dataset_path)\n",
    "    \n",
    "    for species in species_dataset:\n",
    "        os.makedirs(new_dataset_path + '/' + species)\n",
    "        species_images = os.listdir(dataset_path + '/' + species)\n",
    "        for image in species_images:\n",
    "            image_path = dataset_path + '/' + species + '/' + image\n",
    "            squareAndGrayImage(image_path, size, new_dataset_path, species, image)\n",
    "\n",
    "size = 100\n",
    "dataset_path = '../dataset/spectrogram_roi_dataset'\n",
    "new_dataset_path = '../dataset/squared_spectrogram_roi_dataset'\n",
    "squareAndGrayProcess(size, dataset_path, new_dataset_path)"
   ]
  },
  {
   "cell_type": "markdown",
   "metadata": {},
   "source": [
    "Let's display a random sample from our dataset:"
   ]
  },
  {
   "cell_type": "code",
   "execution_count": 4,
   "metadata": {},
   "outputs": [
    {
     "name": "stdout",
     "output_type": "stream",
     "text": [
      "Here's a random sample from each class in the training dataset:\n",
      "Basileuterus bivittatus sample :\n"
     ]
    },
    {
     "data": {
      "image/png": "[encoded data removed]",
      "text/plain": [
       "<IPython.core.display.Image object>"
      ]
     },
     "metadata": {},
     "output_type": "display_data"
    },
    {
     "name": "stdout",
     "output_type": "stream",
     "text": [
      "Basileuterus chrysogaster sample :\n"
     ]
    },
    {
     "data": {
      "image/png": "[encoded data removed]",
      "text/plain": [
       "<IPython.core.display.Image object>"
      ]
     },
     "metadata": {},
     "output_type": "display_data"
    },
    {
     "name": "stdout",
     "output_type": "stream",
     "text": [
      "Chlorothraupis carmioli sample :\n"
     ]
    },
    {
     "data": {
      "image/png": "[encoded data removed]",
      "text/plain": [
       "<IPython.core.display.Image object>"
      ]
     },
     "metadata": {},
     "output_type": "display_data"
    },
    {
     "name": "stdout",
     "output_type": "stream",
     "text": [
      "Eleutherodactylus brittoni sample :\n"
     ]
    },
    {
     "data": {
      "image/png": "[encoded data removed]",
      "text/plain": [
       "<IPython.core.display.Image object>"
      ]
     },
     "metadata": {},
     "output_type": "display_data"
    },
    {
     "name": "stdout",
     "output_type": "stream",
     "text": [
      "Eleutherodactylus cochranae sample :\n"
     ]
    },
    {
     "data": {
      "image/png": "[encoded data removed]",
      "text/plain": [
       "<IPython.core.display.Image object>"
      ]
     },
     "metadata": {},
     "output_type": "display_data"
    },
    {
     "name": "stdout",
     "output_type": "stream",
     "text": [
      "Eleutherodactylus cooki sample :\n"
     ]
    },
    {
     "data": {
      "image/png": "[encoded data removed]",
      "text/plain": [
       "<IPython.core.display.Image object>"
      ]
     },
     "metadata": {},
     "output_type": "display_data"
    },
    {
     "name": "stdout",
     "output_type": "stream",
     "text": [
      "Eleutherodactylus coqui sample :\n"
     ]
    },
    {
     "data": {
      "image/png": "[encoded data removed]",
      "text/plain": [
       "<IPython.core.display.Image object>"
      ]
     },
     "metadata": {},
     "output_type": "display_data"
    },
    {
     "name": "stdout",
     "output_type": "stream",
     "text": [
      "Eleutherodactylus juanariveroi sample :\n"
     ]
    },
    {
     "data": {
      "image/png": "[encoded data removed]",
      "text/plain": [
       "<IPython.core.display.Image object>"
      ]
     },
     "metadata": {},
     "output_type": "display_data"
    },
    {
     "name": "stdout",
     "output_type": "stream",
     "text": [
      "Epinephelus guttatus sample :\n"
     ]
    },
    {
     "data": {
      "image/png": "[encoded data removed]",
      "text/plain": [
       "<IPython.core.display.Image object>"
      ]
     },
     "metadata": {},
     "output_type": "display_data"
    },
    {
     "name": "stdout",
     "output_type": "stream",
     "text": [
      "Formicarius analis sample :\n"
     ]
    },
    {
     "data": {
      "image/png": "[encoded data removed]",
      "text/plain": [
       "<IPython.core.display.Image object>"
      ]
     },
     "metadata": {},
     "output_type": "display_data"
    },
    {
     "name": "stdout",
     "output_type": "stream",
     "text": [
      "Hypocnemis subflava sample :\n"
     ]
    },
    {
     "data": {
      "image/png": "[encoded data removed]",
      "text/plain": [
       "<IPython.core.display.Image object>"
      ]
     },
     "metadata": {},
     "output_type": "display_data"
    },
    {
     "name": "stdout",
     "output_type": "stream",
     "text": [
      "Liosceles thoracicus sample :\n"
     ]
    },
    {
     "data": {
      "image/png": "[encoded data removed]",
      "text/plain": [
       "<IPython.core.display.Image object>"
      ]
     },
     "metadata": {},
     "output_type": "display_data"
    },
    {
     "name": "stdout",
     "output_type": "stream",
     "text": [
      "Megascops guatemalae sample :\n"
     ]
    },
    {
     "data": {
      "image/png": "[encoded data removed]",
      "text/plain": [
       "<IPython.core.display.Image object>"
      ]
     },
     "metadata": {},
     "output_type": "display_data"
    },
    {
     "name": "stdout",
     "output_type": "stream",
     "text": [
      "Megascops nudipes sample :\n"
     ]
    },
    {
     "data": {
      "image/png": "[encoded data removed]",
      "text/plain": [
       "<IPython.core.display.Image object>"
      ]
     },
     "metadata": {},
     "output_type": "display_data"
    },
    {
     "name": "stdout",
     "output_type": "stream",
     "text": [
      "Microcerculus marginatus sample :\n"
     ]
    },
    {
     "data": {
      "image/png": "[encoded data removed]",
      "text/plain": [
       "<IPython.core.display.Image object>"
      ]
     },
     "metadata": {},
     "output_type": "display_data"
    },
    {
     "name": "stdout",
     "output_type": "stream",
     "text": [
      "Myrmeciza hemimelaena sample :\n"
     ]
    },
    {
     "data": {
      "image/png": "[encoded data removed]",
      "text/plain": [
       "<IPython.core.display.Image object>"
      ]
     },
     "metadata": {},
     "output_type": "display_data"
    },
    {
     "name": "stdout",
     "output_type": "stream",
     "text": [
      "Myrmoborus leucophrys sample :\n"
     ]
    },
    {
     "data": {
      "image/png": "[encoded data removed]",
      "text/plain": [
       "<IPython.core.display.Image object>"
      ]
     },
     "metadata": {},
     "output_type": "display_data"
    },
    {
     "name": "stdout",
     "output_type": "stream",
     "text": [
      "Percnostola lophotes sample :\n"
     ]
    },
    {
     "data": {
      "image/png": "[encoded data removed]",
      "text/plain": [
       "<IPython.core.display.Image object>"
      ]
     },
     "metadata": {},
     "output_type": "display_data"
    },
    {
     "name": "stdout",
     "output_type": "stream",
     "text": [
      "Saltator grossus sample :\n"
     ]
    },
    {
     "data": {
      "image/png": "[encoded data removed]",
      "text/plain": [
       "<IPython.core.display.Image object>"
      ]
     },
     "metadata": {},
     "output_type": "display_data"
    },
    {
     "name": "stdout",
     "output_type": "stream",
     "text": [
      "Thamnophilus schistaceus sample :\n"
     ]
    },
    {
     "data": {
      "image/png": "[encoded data removed]",
      "text/plain": [
       "<IPython.core.display.Image object>"
      ]
     },
     "metadata": {},
     "output_type": "display_data"
    },
    {
     "name": "stdout",
     "output_type": "stream",
     "text": [
      "Unknown Insect sample :\n"
     ]
    },
    {
     "data": {
      "image/png": "[encoded data removed]",
      "text/plain": [
       "<IPython.core.display.Image object>"
      ]
     },
     "metadata": {},
     "output_type": "display_data"
    }
   ],
   "source": [
    "\"\"\"function for displaying a random photo from each class in a dataset\"\"\"\n",
    "def displaySamples(dataset_folders):\n",
    "    # go through each class in the dataset\n",
    "    dataset = os.listdir(dataset_folders)\n",
    "    for folder in dataset:\n",
    "        imgs_path = dataset_folders + '/' + folder\n",
    "        imgs = os.listdir(imgs_path) # list all images in a class\n",
    "        sample = dataset_folders + '/' + folder + '/' + imgs[np.random.randint(len(imgs))] # path for a random image from a dataset class\n",
    "        name = sample.split('/')[-2]\n",
    "        print(name, 'sample :')\n",
    "        disp(Im(sample)) # display our sample\n",
    "\n",
    "print(\"Here's a random sample from each class in the training dataset:\")\n",
    "displaySamples(new_dataset_path)"
   ]
  },
  {
   "cell_type": "code",
   "execution_count": 5,
   "metadata": {
    "collapsed": true
   },
   "outputs": [],
   "source": [
    "def getDatasetFolders(dataset_path):\n",
    "    folders = os.listdir(dataset_path)\n",
    "    dataset_folders = []\n",
    "    for folder in folders:\n",
    "        dataset_folders.append(dataset_path + '/' + folder)\n",
    "    return dataset_folders\n",
    "\n",
    "dataset_folders = getDatasetFolders(new_dataset_path)"
   ]
  },
  {
   "cell_type": "code",
   "execution_count": 6,
   "metadata": {},
   "outputs": [
    {
     "name": "stdout",
     "output_type": "stream",
     "text": [
      "Pickling ../dataset/pickle_data/Basileuterus bivittatus.pickle.\n",
      "(100, 100)\n",
      "(100, 100)\n",
      "(100, 100)\n",
      "(100, 100)\n",
      "(100, 100)\n",
      "(100, 100)\n",
      "(100, 100)\n",
      "(100, 100)\n",
      "(100, 100)\n",
      "(100, 100)\n",
      "(100, 100)\n",
      "(100, 100)\n",
      "(100, 100)\n",
      "(100, 100)\n",
      "(100, 100)\n",
      "Full dataset tensor: (15, 100, 100)\n",
      "Mean: -0.0160071\n",
      "Standard deviation: 0.0803262\n",
      "Pickling ../dataset/pickle_data/Basileuterus chrysogaster.pickle.\n",
      "(100, 100)\n",
      "(100, 100)\n",
      "(100, 100)\n",
      "(100, 100)\n",
      "(100, 100)\n",
      "Full dataset tensor: (5, 100, 100)\n",
      "Mean: 0.0352302\n",
      "Standard deviation: 0.0880935\n",
      "Pickling ../dataset/pickle_data/Chlorothraupis carmioli.pickle.\n",
      "(100, 100)\n",
      "(100, 100)\n",
      "(100, 100)\n",
      "(100, 100)\n",
      "(100, 100)\n",
      "(100, 100)\n",
      "(100, 100)\n",
      "(100, 100)\n",
      "(100, 100)\n",
      "(100, 100)\n",
      "(100, 100)\n",
      "Full dataset tensor: (11, 100, 100)\n",
      "Mean: 0.0117418\n",
      "Standard deviation: 0.0747008\n",
      "Pickling ../dataset/pickle_data/Eleutherodactylus brittoni.pickle.\n",
      "(100, 100)\n",
      "(100, 100)\n",
      "(100, 100)\n",
      "(100, 100)\n",
      "(100, 100)\n",
      "(100, 100)\n",
      "(100, 100)\n",
      "(100, 100)\n",
      "(100, 100)\n",
      "(100, 100)\n",
      "(100, 100)\n",
      "(100, 100)\n",
      "(100, 100)\n",
      "(100, 100)\n",
      "Full dataset tensor: (14, 100, 100)\n",
      "Mean: -0.0909916\n",
      "Standard deviation: 0.118262\n",
      "Pickling ../dataset/pickle_data/Eleutherodactylus cochranae.pickle.\n",
      "(100, 100)\n",
      "(100, 100)\n",
      "(100, 100)\n",
      "(100, 100)\n",
      "(100, 100)\n",
      "(100, 100)\n",
      "(100, 100)\n",
      "(100, 100)\n",
      "(100, 100)\n",
      "(100, 100)\n",
      "(100, 100)\n",
      "(100, 100)\n",
      "(100, 100)\n",
      "(100, 100)\n",
      "(100, 100)\n",
      "(100, 100)\n",
      "(100, 100)\n",
      "(100, 100)\n",
      "(100, 100)\n",
      "(100, 100)\n",
      "(100, 100)\n",
      "(100, 100)\n",
      "(100, 100)\n",
      "(100, 100)\n",
      "(100, 100)\n",
      "Full dataset tensor: (25, 100, 100)\n",
      "Mean: 0.0533587\n",
      "Standard deviation: 0.178075\n",
      "Pickling ../dataset/pickle_data/Eleutherodactylus cooki.pickle.\n",
      "(100, 100)\n",
      "(100, 100)\n",
      "(100, 100)\n",
      "(100, 100)\n",
      "(100, 100)\n",
      "(100, 100)\n",
      "(100, 100)\n",
      "(100, 100)\n",
      "(100, 100)\n",
      "(100, 100)\n",
      "(100, 100)\n",
      "(100, 100)\n",
      "(100, 100)\n",
      "(100, 100)\n",
      "(100, 100)\n",
      "(100, 100)\n",
      "Full dataset tensor: (16, 100, 100)\n",
      "Mean: 0.0177113\n",
      "Standard deviation: 0.106023\n",
      "Pickling ../dataset/pickle_data/Eleutherodactylus coqui.pickle.\n",
      "(100, 100)\n",
      "(100, 100)\n",
      "(100, 100)\n",
      "(100, 100)\n",
      "(100, 100)\n",
      "(100, 100)\n",
      "(100, 100)\n",
      "(100, 100)\n",
      "(100, 100)\n",
      "(100, 100)\n",
      "(100, 100)\n",
      "(100, 100)\n",
      "(100, 100)\n",
      "Full dataset tensor: (13, 100, 100)\n",
      "Mean: -0.0304975\n",
      "Standard deviation: 0.0905718\n",
      "Pickling ../dataset/pickle_data/Eleutherodactylus juanariveroi.pickle.\n",
      "(100, 100)\n",
      "(100, 100)\n",
      "(100, 100)\n",
      "(100, 100)\n",
      "(100, 100)\n",
      "Full dataset tensor: (5, 100, 100)\n",
      "Mean: -0.0907358\n",
      "Standard deviation: 0.0747475\n",
      "Pickling ../dataset/pickle_data/Epinephelus guttatus.pickle.\n",
      "(100, 100)\n",
      "(100, 100)\n",
      "(100, 100)\n",
      "(100, 100)\n",
      "(100, 100)\n",
      "(100, 100)\n",
      "(100, 100)\n",
      "(100, 100)\n",
      "(100, 100)\n",
      "(100, 100)\n",
      "(100, 100)\n",
      "(100, 100)\n",
      "(100, 100)\n",
      "(100, 100)\n",
      "(100, 100)\n",
      "(100, 100)\n",
      "(100, 100)\n",
      "Full dataset tensor: (17, 100, 100)\n",
      "Mean: 0.0313633\n",
      "Standard deviation: 0.123013\n",
      "Pickling ../dataset/pickle_data/Formicarius analis.pickle.\n",
      "(100, 100)\n",
      "(100, 100)\n",
      "(100, 100)\n",
      "(100, 100)\n",
      "(100, 100)\n",
      "(100, 100)\n",
      "(100, 100)\n",
      "(100, 100)\n",
      "(100, 100)\n",
      "(100, 100)\n",
      "(100, 100)\n",
      "Full dataset tensor: (11, 100, 100)\n",
      "Mean: 0.0307183\n",
      "Standard deviation: 0.0991619\n",
      "Pickling ../dataset/pickle_data/Hypocnemis subflava.pickle.\n",
      "(100, 100)\n",
      "(100, 100)\n",
      "(100, 100)\n",
      "(100, 100)\n",
      "(100, 100)\n",
      "(100, 100)\n",
      "(100, 100)\n",
      "(100, 100)\n",
      "(100, 100)\n",
      "(100, 100)\n",
      "(100, 100)\n",
      "(100, 100)\n",
      "(100, 100)\n",
      "(100, 100)\n",
      "(100, 100)\n",
      "(100, 100)\n",
      "(100, 100)\n",
      "(100, 100)\n",
      "(100, 100)\n",
      "(100, 100)\n",
      "(100, 100)\n",
      "(100, 100)\n",
      "(100, 100)\n",
      "(100, 100)\n",
      "Full dataset tensor: (24, 100, 100)\n",
      "Mean: 0.010101\n",
      "Standard deviation: 0.0806929\n",
      "Pickling ../dataset/pickle_data/Liosceles thoracicus.pickle.\n",
      "(100, 100)\n",
      "(100, 100)\n",
      "(100, 100)\n",
      "(100, 100)\n",
      "(100, 100)\n",
      "(100, 100)\n",
      "(100, 100)\n",
      "(100, 100)\n",
      "(100, 100)\n",
      "(100, 100)\n",
      "(100, 100)\n",
      "(100, 100)\n",
      "(100, 100)\n",
      "(100, 100)\n",
      "Full dataset tensor: (14, 100, 100)\n",
      "Mean: 0.0262587\n",
      "Standard deviation: 0.107027\n",
      "Pickling ../dataset/pickle_data/Megascops guatemalae.pickle.\n",
      "(100, 100)\n",
      "(100, 100)\n",
      "(100, 100)\n",
      "(100, 100)\n",
      "(100, 100)\n",
      "(100, 100)\n",
      "Full dataset tensor: (6, 100, 100)\n",
      "Mean: 0.0950923\n",
      "Standard deviation: 0.0910991\n",
      "Pickling ../dataset/pickle_data/Megascops nudipes.pickle.\n",
      "(100, 100)\n",
      "(100, 100)\n",
      "(100, 100)\n",
      "(100, 100)\n",
      "(100, 100)\n",
      "(100, 100)\n",
      "(100, 100)\n",
      "(100, 100)\n",
      "(100, 100)\n",
      "(100, 100)\n",
      "(100, 100)\n",
      "(100, 100)\n",
      "(100, 100)\n",
      "(100, 100)\n",
      "(100, 100)\n",
      "Full dataset tensor: (15, 100, 100)\n",
      "Mean: 0.103688\n",
      "Standard deviation: 0.156125\n",
      "Pickling ../dataset/pickle_data/Microcerculus marginatus.pickle.\n",
      "(100, 100)\n",
      "(100, 100)\n",
      "(100, 100)\n",
      "(100, 100)\n",
      "(100, 100)\n",
      "(100, 100)\n",
      "(100, 100)\n",
      "(100, 100)\n",
      "(100, 100)\n",
      "(100, 100)\n",
      "(100, 100)\n",
      "(100, 100)\n",
      "Full dataset tensor: (12, 100, 100)\n",
      "Mean: 0.0806899\n",
      "Standard deviation: 0.116825\n",
      "Pickling ../dataset/pickle_data/Myrmeciza hemimelaena.pickle.\n",
      "(100, 100)\n",
      "(100, 100)\n",
      "(100, 100)\n",
      "(100, 100)\n",
      "(100, 100)\n",
      "(100, 100)\n",
      "(100, 100)\n",
      "(100, 100)\n",
      "(100, 100)\n",
      "(100, 100)\n",
      "(100, 100)\n",
      "(100, 100)\n",
      "(100, 100)\n",
      "(100, 100)\n",
      "(100, 100)\n",
      "(100, 100)\n",
      "(100, 100)\n",
      "(100, 100)\n",
      "(100, 100)\n",
      "(100, 100)\n",
      "(100, 100)\n",
      "(100, 100)\n",
      "(100, 100)\n",
      "(100, 100)\n",
      "(100, 100)\n",
      "(100, 100)\n",
      "(100, 100)\n",
      "(100, 100)\n",
      "(100, 100)\n",
      "(100, 100)\n",
      "(100, 100)\n",
      "(100, 100)\n",
      "(100, 100)\n",
      "(100, 100)\n",
      "(100, 100)\n",
      "(100, 100)\n",
      "(100, 100)\n",
      "(100, 100)\n",
      "(100, 100)\n",
      "(100, 100)\n",
      "(100, 100)\n",
      "(100, 100)\n",
      "(100, 100)\n",
      "(100, 100)\n",
      "(100, 100)\n",
      "(100, 100)\n",
      "Full dataset tensor: (46, 100, 100)\n",
      "Mean: -0.0239103\n",
      "Standard deviation: 0.0933333\n",
      "Pickling ../dataset/pickle_data/Myrmoborus leucophrys.pickle.\n",
      "(100, 100)\n",
      "(100, 100)\n",
      "(100, 100)\n",
      "(100, 100)\n",
      "(100, 100)\n",
      "(100, 100)\n",
      "(100, 100)\n",
      "(100, 100)\n",
      "(100, 100)\n",
      "(100, 100)\n",
      "(100, 100)\n",
      "(100, 100)\n",
      "(100, 100)\n",
      "(100, 100)\n",
      "(100, 100)\n",
      "(100, 100)\n",
      "(100, 100)\n",
      "(100, 100)\n",
      "(100, 100)\n",
      "(100, 100)\n",
      "(100, 100)\n",
      "(100, 100)\n",
      "Full dataset tensor: (22, 100, 100)\n",
      "Mean: 0.0302245\n",
      "Standard deviation: 0.0892063\n",
      "Pickling ../dataset/pickle_data/Percnostola lophotes.pickle.\n",
      "(100, 100)\n",
      "(100, 100)\n",
      "(100, 100)\n",
      "(100, 100)\n",
      "(100, 100)\n",
      "(100, 100)\n",
      "(100, 100)\n",
      "(100, 100)\n",
      "(100, 100)\n",
      "(100, 100)\n",
      "(100, 100)\n",
      "(100, 100)\n",
      "(100, 100)\n",
      "(100, 100)\n",
      "(100, 100)\n",
      "(100, 100)\n",
      "(100, 100)\n",
      "Full dataset tensor: (17, 100, 100)\n",
      "Mean: -0.0133561\n",
      "Standard deviation: 0.0790025\n",
      "Pickling ../dataset/pickle_data/Saltator grossus.pickle.\n",
      "(100, 100)\n",
      "(100, 100)\n",
      "(100, 100)\n",
      "(100, 100)\n",
      "(100, 100)\n",
      "(100, 100)\n",
      "(100, 100)\n",
      "(100, 100)\n",
      "(100, 100)\n",
      "(100, 100)\n",
      "Full dataset tensor: (10, 100, 100)\n",
      "Mean: 0.0284882\n",
      "Standard deviation: 0.0909263\n",
      "Pickling ../dataset/pickle_data/Thamnophilus schistaceus.pickle.\n",
      "(100, 100)\n",
      "(100, 100)\n",
      "(100, 100)\n",
      "(100, 100)\n",
      "(100, 100)\n",
      "(100, 100)\n",
      "(100, 100)\n",
      "(100, 100)\n",
      "(100, 100)\n",
      "(100, 100)\n",
      "(100, 100)\n",
      "Full dataset tensor: (11, 100, 100)\n",
      "Mean: 0.0293923\n",
      "Standard deviation: 0.0973084\n",
      "Pickling ../dataset/pickle_data/Unknown Insect.pickle.\n",
      "(100, 100)\n",
      "(100, 100)\n",
      "(100, 100)\n",
      "(100, 100)\n",
      "(100, 100)\n",
      "(100, 100)\n",
      "(100, 100)\n",
      "(100, 100)\n",
      "(100, 100)\n",
      "(100, 100)\n",
      "Full dataset tensor: (10, 100, 100)\n",
      "Mean: 0.0549637\n",
      "Standard deviation: 0.0630059\n"
     ]
    }
   ],
   "source": [
    "image_size = 100  # Pixel width and height.\n",
    "pixel_depth = 255.0  # Number of levels per pixel.\n",
    "\n",
    "def load_image(folder, min_num_images):\n",
    "    \"\"\"Load the data for a single letter label.\"\"\"\n",
    "    image_files = os.listdir(folder)\n",
    "    dataset = np.ndarray(shape=(len(image_files), image_size, image_size), dtype=np.float32)\n",
    "    num_images = 0\n",
    "\n",
    "    for image in image_files:\n",
    "        image_file = os.path.join(folder, image)\n",
    "        try:\n",
    "            image_data = (ndimage.imread(image_file).astype(float) - pixel_depth / 2) / pixel_depth\n",
    "            print(image_data.shape)\n",
    "            # our images are RGBA so we would expect shape MxNx4\n",
    "            # see: https://docs.scipy.org/doc/scipy-0.14.0/reference/generated/scipy.ndimage.imread.html\n",
    "            if (image_data.shape != (image_size, image_size)):\n",
    "                raise Exception('Unexpected image shape: %s' % str(image_data.shape))\n",
    "            dataset[num_images, :, :] = image_data\n",
    "            num_images = num_images + 1\n",
    "        except IOError as e:\n",
    "            print('Could not read:', image_file, ':', e, '- it\\'s ok, skipping.')\n",
    "\n",
    "    dataset = dataset[0:num_images, :, :]\n",
    "    if num_images < min_num_images:\n",
    "        raise Exception('Many fewer images than expected: %d < %d' % (num_images, min_num_images))\n",
    "\n",
    "    print('Full dataset tensor:', dataset.shape)\n",
    "    print('Mean:', np.mean(dataset))\n",
    "    print('Standard deviation:', np.std(dataset))\n",
    "    return dataset\n",
    "\n",
    "def maybe_pickle(data_folders, min_num_images_per_class, pickles_path, force=False):\n",
    "    \n",
    "    if not os.path.exists(pickles_path):\n",
    "        os.makedirs(pickles_path)\n",
    "    else:\n",
    "        shutil.rmtree(pickles_path)\n",
    "        os.makedirs(pickles_path)\n",
    "  \n",
    "    dataset_names = []\n",
    "    for folder in data_folders:\n",
    "        class_name = folder.split('/')[-1] # species name\n",
    "        set_filename = pickles_path + '/' + class_name + '.pickle'\n",
    "        dataset_names.append(set_filename)\n",
    "        if os.path.exists(set_filename) and not force:\n",
    "            # You may override by setting force=True.\n",
    "            print('%s already present - Skipping pickling.' % set_filename)\n",
    "        else:\n",
    "            print('Pickling %s.' % set_filename)\n",
    "            dataset = load_image(folder, min_num_images_per_class)\n",
    "            try:\n",
    "                with open(set_filename, 'wb') as f:\n",
    "                    pickle.dump(dataset, f, pickle.HIGHEST_PROTOCOL)\n",
    "            except Exception as e:\n",
    "                print('Unable to save data to', set_filename, ':', e)\n",
    "\n",
    "    return dataset_names\n",
    "\n",
    "\n",
    "#you can find the min number of images with a trivial function like this:\n",
    "#min = 90000000\n",
    "#dataset_folders = os.listdir('../dataset/squared_spectrogram_roi_dataset')\n",
    "#for folder in dataset_folders:\n",
    "#  images = os.listdir(dataset + '/' + folder)\n",
    "#  count = 0\n",
    "#  for image in images:\n",
    "#    count += 1\n",
    "#    if (count < min):\n",
    "#      min = count\n",
    "\n",
    "#print(min)\n",
    "\n",
    "min_imgs_per_class = 5\n",
    "pickles_path = '../dataset/pickle_data'\n",
    "datasets = maybe_pickle(dataset_folders, min_imgs_per_class, pickles_path)"
   ]
  },
  {
   "cell_type": "markdown",
   "metadata": {},
   "source": [
    "Let's check if our dataset is balanced:"
   ]
  },
  {
   "cell_type": "code",
   "execution_count": 7,
   "metadata": {
    "collapsed": true
   },
   "outputs": [],
   "source": [
    "# let's get our pickles\n",
    "pickles = getDatasetFolders('../dataset/pickle_data')"
   ]
  },
  {
   "cell_type": "code",
   "execution_count": 8,
   "metadata": {},
   "outputs": [
    {
     "name": "stdout",
     "output_type": "stream",
     "text": [
      "['../dataset/pickle_data/Basileuterus bivittatus.pickle', '../dataset/pickle_data/Basileuterus chrysogaster.pickle', '../dataset/pickle_data/Chlorothraupis carmioli.pickle', '../dataset/pickle_data/Eleutherodactylus brittoni.pickle', '../dataset/pickle_data/Eleutherodactylus cochranae.pickle', '../dataset/pickle_data/Eleutherodactylus cooki.pickle', '../dataset/pickle_data/Eleutherodactylus coqui.pickle', '../dataset/pickle_data/Eleutherodactylus juanariveroi.pickle', '../dataset/pickle_data/Epinephelus guttatus.pickle', '../dataset/pickle_data/Formicarius analis.pickle', '../dataset/pickle_data/Hypocnemis subflava.pickle', '../dataset/pickle_data/Liosceles thoracicus.pickle', '../dataset/pickle_data/Megascops guatemalae.pickle', '../dataset/pickle_data/Megascops nudipes.pickle', '../dataset/pickle_data/Microcerculus marginatus.pickle', '../dataset/pickle_data/Myrmeciza hemimelaena.pickle', '../dataset/pickle_data/Myrmoborus leucophrys.pickle', '../dataset/pickle_data/Percnostola lophotes.pickle', '../dataset/pickle_data/Saltator grossus.pickle', '../dataset/pickle_data/Thamnophilus schistaceus.pickle', '../dataset/pickle_data/Unknown Insect.pickle']\n"
     ]
    }
   ],
   "source": [
    "print(datasets)"
   ]
  },
  {
   "cell_type": "code",
   "execution_count": 9,
   "metadata": {},
   "outputs": [
    {
     "name": "stdout",
     "output_type": "stream",
     "text": [
      "Let's see if the dataset is balanced:\n",
      "The total number of images in class Basileuterus bivittatus is: 15\n",
      "The total number of images in class Basileuterus chrysogaster is: 5\n",
      "The total number of images in class Chlorothraupis carmioli is: 11\n",
      "The total number of images in class Eleutherodactylus brittoni is: 14\n",
      "The total number of images in class Eleutherodactylus cochranae is: 25\n",
      "The total number of images in class Eleutherodactylus cooki is: 16\n",
      "The total number of images in class Eleutherodactylus coqui is: 13\n",
      "The total number of images in class Eleutherodactylus juanariveroi is: 5\n",
      "The total number of images in class Epinephelus guttatus is: 17\n",
      "The total number of images in class Formicarius analis is: 11\n",
      "The total number of images in class Hypocnemis subflava is: 24\n",
      "The total number of images in class Liosceles thoracicus is: 14\n",
      "The total number of images in class Megascops guatemalae is: 6\n",
      "The total number of images in class Megascops nudipes is: 15\n",
      "The total number of images in class Microcerculus marginatus is: 12\n",
      "The total number of images in class Myrmeciza hemimelaena is: 46\n",
      "The total number of images in class Myrmoborus leucophrys is: 22\n",
      "The total number of images in class Percnostola lophotes is: 17\n",
      "The total number of images in class Saltator grossus is: 10\n",
      "The total number of images in class Thamnophilus schistaceus is: 11\n",
      "The total number of images in class Unknown Insect is: 10\n",
      "For the dataset to be balanced, each class should have approximately 15 images.\n",
      "\n"
     ]
    }
   ],
   "source": [
    "def class_is_balanced(pickles):\n",
    "    total = 0\n",
    "    for pckle in pickles:\n",
    "        if (os.path.isfile(pckle)):\n",
    "            pickle_class = pickle.load(open(pckle, \"rb\"))\n",
    "        else:\n",
    "            print(\"Error reading dataset %s. Exiting.\", pickle_path)\n",
    "            return -1\n",
    "        class_name = pckle.split('/')[-1].split('.')[0]\n",
    "        print(\"The total number of images in class %s is: %d\" % (class_name, len(pickle_class)))\n",
    "        total += len(pickle_class)\n",
    "    print(\"For the dataset to be balanced, each class should have approximately %d images.\\n\" % (total / len(pickles)))\n",
    "    return (total // len(pickles))\n",
    "    \n",
    "print(\"Let's see if the dataset is balanced:\")\n",
    "balance_num = class_is_balanced(pickles)"
   ]
  },
  {
   "cell_type": "markdown",
   "metadata": {},
   "source": [
    "### Our dataset is not balanced :("
   ]
  },
  {
   "cell_type": "markdown",
   "metadata": {},
   "source": [
    "Now we'll merge, prune, and label our dataset. "
   ]
  },
  {
   "cell_type": "code",
   "execution_count": 18,
   "metadata": {},
   "outputs": [
    {
     "name": "stdout",
     "output_type": "stream",
     "text": [
      "balanced dataset is  ['../dataset/pickle_data/Basileuterus bivittatus.pickle', '../dataset/pickle_data/Eleutherodactylus cochranae.pickle', '../dataset/pickle_data/Eleutherodactylus cooki.pickle', '../dataset/pickle_data/Epinephelus guttatus.pickle', '../dataset/pickle_data/Hypocnemis subflava.pickle', '../dataset/pickle_data/Megascops nudipes.pickle', '../dataset/pickle_data/Myrmeciza hemimelaena.pickle', '../dataset/pickle_data/Myrmoborus leucophrys.pickle', '../dataset/pickle_data/Percnostola lophotes.pickle']\n",
      "Total images are  197\n"
     ]
    }
   ],
   "source": [
    "def getBalancedClasses(pickle_files, balanced_num):\n",
    "    pickle_paths = []\n",
    "    total = 0\n",
    "    for pckle in pickle_files:\n",
    "        if (os.path.isfile(pckle)):\n",
    "            pickle_class = pickle.load(open(pckle, \"rb\"))\n",
    "        else:\n",
    "            print(\"Error reading dataset %s. Exiting.\", pickle_path)\n",
    "            return -1\n",
    "        if (len(pickle_class) >= balance_num):\n",
    "            total += len(pickle_class)\n",
    "            pickle_paths.append(pckle)\n",
    "    return pickle_paths, total\n",
    "\n",
    "true_pickles, total_balanced = getBalancedClasses(pickles, balance_num)\n",
    "\n",
    "print(\"balanced dataset is \", true_pickles)\n",
    "print(\"Total images are \", total_balanced)\n",
    "#balance_num = class_is_balanced(true_pickles)\n",
    "\n",
    "#true_pickles = getBalancedClasses(pickles, balance_num)\n",
    "\n",
    "#balance_num = class_is_balanced(true_pickles)\n",
    "\n",
    "#true_pickles = getBalancedClasses(pickles, balance_num)\n",
    "\n",
    "#balance_num = class_is_balanced(true_pickles)"
   ]
  },
  {
   "cell_type": "code",
   "execution_count": 19,
   "metadata": {},
   "outputs": [
    {
     "name": "stdout",
     "output_type": "stream",
     "text": [
      "Largest dataset is Myrmeciza hemimelaena with 46 images\n"
     ]
    }
   ],
   "source": [
    "def getLargestClass(pickles):\n",
    "    num_images = 0\n",
    "    class_info = []\n",
    "    for index,pckle in enumerate(pickles):\n",
    "        if (os.path.isfile(pckle)):\n",
    "            pickle_class = pickle.load(open(pckle, \"rb\"))\n",
    "        else:\n",
    "            print(\"Error reading dataset %s. Exiting.\", pickle_path)\n",
    "            return -1\n",
    "        class_name = pckle.split('/')[-1].split('.')[0]\n",
    "        if(len(pickle_class) > num_images):\n",
    "            num_images = len(pickle_class)\n",
    "            class_info = [index, class_name, num_images]\n",
    "            \n",
    "    print(\"Largest dataset is {} with {} images\".format(class_info[1], class_info[2]))\n",
    "    return class_info\n",
    "\n",
    "class_info = getLargestClass(true_pickles)"
   ]
  },
  {
   "cell_type": "code",
   "execution_count": 20,
   "metadata": {},
   "outputs": [],
   "source": [
    "def make_arrays(nb_rows, img_size):\n",
    "    if nb_rows:\n",
    "        dataset = np.ndarray((nb_rows, img_size, img_size), dtype=np.float32)\n",
    "        labels = np.ndarray(nb_rows, dtype=np.int32)\n",
    "    else:\n",
    "        dataset, labels = None, None\n",
    "    return dataset, labels\n",
    "\n",
    "def merge_datasets_all(pickle_files, train_size, valid_size, test_size): # valid_size is 0 if not given as argument. \n",
    "    num_classes = len(pickle_files)\n",
    "    valid_dataset, valid_labels = make_arrays(valid_size, image_size)\n",
    "    train_dataset, train_labels = make_arrays(train_size, image_size)\n",
    "    test_dataset, test_labels = make_arrays(test_size, image_size)\n",
    "\n",
    "    vsize_per_class = valid_size // num_classes\n",
    "    tsize_per_class = train_size // num_classes\n",
    "    tesize_per_class = test_size // num_classes\n",
    "    \n",
    "    start_v, start_t, start_te = 0, 0, 0\n",
    "    end_v, end_t, end_te= vsize_per_class, tsize_per_class, tesize_per_class\n",
    "    end_l = vsize_per_class + tsize_per_class\n",
    "    end_tst = end_l + tesize_per_class\n",
    "    \n",
    "\n",
    "    for label, pickle_file in enumerate(pickle_files):\n",
    "        #print(start_v, end_v)\n",
    "        #print(start_t, end_v)\n",
    "        name = (pickle_file.split('/')[-1]).split('.')[0]\n",
    "        try:\n",
    "            with open(pickle_file, 'rb') as f:\n",
    "                species_set = pickle.load(f) # set of images from species\n",
    "                # let's shuffle the letters to have random validation and training set\n",
    "                np.random.shuffle(species_set) # shuffle the data (the \"images\") in the pickle around \n",
    "                \n",
    "\n",
    "                print(\"Valid dataset with\", name, \". Has \", len(species_set), \" images.\")\n",
    "                print(\"Needs %d images per class\" % vsize_per_class)\n",
    "                print(\"valid_species is species_set[:%d,:,:]\" % vsize_per_class)\n",
    "                valid_species = species_set[:vsize_per_class, :, :]\n",
    "                print(\"valid_dataset[%d:%d,:,:] = valid_species\" % (start_v,end_v))\n",
    "                valid_dataset[start_v:end_v, :, :] = valid_species\n",
    "                print(\"valid_labels[%d:%d] = %d\" % (start_v,end_v,label))\n",
    "                valid_labels[start_v:end_v] = label\n",
    "                start_v += vsize_per_class\n",
    "                end_v += vsize_per_class\n",
    "\n",
    "\n",
    "                print(\"Train dataset with\", name, \". Has \", len(species_set), \" images\")\n",
    "                print(\"Needs %d images per class\" % tsize_per_class)\n",
    "                print(\"train_species is species_set[%d:%d,:,:]\" % (vsize_per_class,end_l))\n",
    "                train_species = species_set[vsize_per_class:end_l, :, :]\n",
    "                print(\"train_dataset[%d:%d,:,:] = train_species\" % (start_t,end_t))\n",
    "                train_dataset[start_t:end_t, :, :] = train_species\n",
    "                print(\"train_labels[%d:%d] = %d\" % (start_t,end_t,label))\n",
    "                train_labels[start_t:end_t] = label # give label to all images in class    \n",
    "                start_t += tsize_per_class # offset start of class for next iteration \n",
    "                end_t += tsize_per_class # offset end of class for next iteration\n",
    "                \n",
    "                print(\"Test dataset with\", name, \". Has \", len(species_set), \" images\")\n",
    "                print(\"Needs %d images per class\" % tesize_per_class)\n",
    "                print(\"test_species is species_set[%d:%d,:,:]\" % (end_l, end_te))\n",
    "                test_species = species_set[end_l:end_tst, :, :]\n",
    "                print(\"test_dataset[%d:%d,:,:] = test_species\" % (start_te,end_te))\n",
    "                test_dataset[start_te:end_te, :, :] = test_species\n",
    "                print(\"test_labels[%d:%d] = %d\" % (start_te,end_te,label))\n",
    "                test_labels[start_te:end_te] = label # give label to all images in class\n",
    "                start_te += tesize_per_class # offset start of class for next iteration \n",
    "                end_te += tesize_per_class # offset end of class for next iteration\n",
    "                \n",
    "        except Exception as e:\n",
    "            print('Unable to process data from', pickle_file, ':', e)\n",
    "            raise\n",
    "    \n",
    "    return valid_dataset, valid_labels, train_dataset, train_labels, test_dataset, test_labels\n",
    "            \n",
    "# the number of images in our training, validation, and testing dataset respectively\n",
    "# train_size = 70\n",
    "# valid_size = 35\n",
    "# test_size = 35\n",
    "\n",
    "# valid_dataset, valid_labels, train_dataset, train_labels, test_dataset, test_labels = merge_datasets_all(true_pickles, train_size, valid_size, test_size)\n",
    "\n",
    "\n",
    "# print('Training:', train_dataset.shape, train_labels.shape)\n",
    "# print('Validation:', valid_dataset.shape, valid_labels.shape)\n",
    "# print('Testing:', test_dataset.shape, test_labels.shape)"
   ]
  },
  {
   "cell_type": "code",
   "execution_count": 39,
   "metadata": {},
   "outputs": [
    {
     "name": "stdout",
     "output_type": "stream",
     "text": [
      "Valid dataset with Basileuterus bivittatus . Has  15  images.\n",
      "Needs 4 images per class\n",
      "valid_species is species_set[:4,:,:]\n",
      "valid_dataset[11:15,:,:] = valid_species\n",
      "valid_labels[11:15] = 1\n",
      "Train dataset with Basileuterus bivittatus . Has  15  images\n",
      "Needs 7 images per class\n",
      "train_species is species_set[4:11,:,:]\n",
      "train_dataset[13:20,:,:] = train_species\n",
      "train_labels[13:20] = 1\n",
      "Test dataset with Basileuterus bivittatus . Has  15  images\n",
      "Needs 4 images per class\n",
      "test_species is species_set[11:15,:,:]\n",
      "test_dataset[11:15,:,:] = test_species\n",
      "test_labels[11:15] = 1\n",
      "Valid dataset with Eleutherodactylus cochranae . Has  25  images.\n",
      "Needs 4 images per class\n",
      "valid_species is species_set[:4,:,:]\n",
      "valid_dataset[15:19,:,:] = valid_species\n",
      "valid_labels[15:19] = 1\n",
      "Train dataset with Eleutherodactylus cochranae . Has  25  images\n",
      "Needs 7 images per class\n",
      "train_species is species_set[4:11,:,:]\n",
      "train_dataset[20:27,:,:] = train_species\n",
      "train_labels[20:27] = 1\n",
      "Test dataset with Eleutherodactylus cochranae . Has  25  images\n",
      "Needs 4 images per class\n",
      "test_species is species_set[11:19,:,:]\n",
      "test_dataset[15:19,:,:] = test_species\n",
      "test_labels[15:19] = 1\n",
      "Valid dataset with Eleutherodactylus cooki . Has  16  images.\n",
      "Needs 4 images per class\n",
      "valid_species is species_set[:4,:,:]\n",
      "valid_dataset[19:23,:,:] = valid_species\n",
      "valid_labels[19:23] = 1\n",
      "Train dataset with Eleutherodactylus cooki . Has  16  images\n",
      "Needs 7 images per class\n",
      "train_species is species_set[4:11,:,:]\n",
      "train_dataset[27:34,:,:] = train_species\n",
      "train_labels[27:34] = 1\n",
      "Test dataset with Eleutherodactylus cooki . Has  16  images\n",
      "Needs 4 images per class\n",
      "test_species is species_set[11:23,:,:]\n",
      "test_dataset[19:23,:,:] = test_species\n",
      "test_labels[19:23] = 1\n",
      "Valid dataset with Epinephelus guttatus . Has  17  images.\n",
      "Needs 4 images per class\n",
      "valid_species is species_set[:4,:,:]\n",
      "valid_dataset[23:27,:,:] = valid_species\n",
      "valid_labels[23:27] = 1\n",
      "Train dataset with Epinephelus guttatus . Has  17  images\n",
      "Needs 7 images per class\n",
      "train_species is species_set[4:11,:,:]\n",
      "train_dataset[34:41,:,:] = train_species\n",
      "train_labels[34:41] = 1\n",
      "Test dataset with Epinephelus guttatus . Has  17  images\n",
      "Needs 4 images per class\n",
      "test_species is species_set[11:27,:,:]\n",
      "test_dataset[23:27,:,:] = test_species\n",
      "test_labels[23:27] = 1\n",
      "Valid dataset with Hypocnemis subflava . Has  24  images.\n",
      "Needs 4 images per class\n",
      "valid_species is species_set[:4,:,:]\n",
      "valid_dataset[27:31,:,:] = valid_species\n",
      "valid_labels[27:31] = 1\n",
      "Train dataset with Hypocnemis subflava . Has  24  images\n",
      "Needs 7 images per class\n",
      "train_species is species_set[4:11,:,:]\n",
      "train_dataset[41:48,:,:] = train_species\n",
      "train_labels[41:48] = 1\n",
      "Test dataset with Hypocnemis subflava . Has  24  images\n",
      "Needs 4 images per class\n",
      "test_species is species_set[11:31,:,:]\n",
      "test_dataset[27:31,:,:] = test_species\n",
      "test_labels[27:31] = 1\n",
      "Valid dataset with Megascops nudipes . Has  15  images.\n",
      "Needs 4 images per class\n",
      "valid_species is species_set[:4,:,:]\n",
      "valid_dataset[31:35,:,:] = valid_species\n",
      "valid_labels[31:35] = 1\n",
      "Train dataset with Megascops nudipes . Has  15  images\n",
      "Needs 7 images per class\n",
      "train_species is species_set[4:11,:,:]\n",
      "train_dataset[48:55,:,:] = train_species\n",
      "train_labels[48:55] = 1\n",
      "Test dataset with Megascops nudipes . Has  15  images\n",
      "Needs 4 images per class\n",
      "test_species is species_set[11:35,:,:]\n",
      "test_dataset[31:35,:,:] = test_species\n",
      "test_labels[31:35] = 1\n",
      "Valid dataset with Myrmeciza hemimelaena . Has  46  images.\n",
      "Needs 4 images per class\n",
      "valid_species is species_set[:4,:,:]\n",
      "valid_dataset[35:39,:,:] = valid_species\n",
      "valid_labels[35:39] = 1\n",
      "Train dataset with Myrmeciza hemimelaena . Has  46  images\n",
      "Needs 7 images per class\n",
      "train_species is species_set[4:11,:,:]\n",
      "train_dataset[55:62,:,:] = train_species\n",
      "train_labels[55:62] = 1\n",
      "Test dataset with Myrmeciza hemimelaena . Has  46  images\n",
      "Needs 4 images per class\n",
      "test_species is species_set[11:39,:,:]\n",
      "test_dataset[35:39,:,:] = test_species\n",
      "test_labels[35:39] = 1\n",
      "Valid dataset with Myrmoborus leucophrys . Has  22  images.\n",
      "Needs 4 images per class\n",
      "valid_species is species_set[:4,:,:]\n",
      "valid_dataset[39:43,:,:] = valid_species\n",
      "valid_labels[39:43] = 1\n",
      "Train dataset with Myrmoborus leucophrys . Has  22  images\n",
      "Needs 7 images per class\n",
      "train_species is species_set[4:11,:,:]\n",
      "train_dataset[62:69,:,:] = train_species\n",
      "train_labels[62:69] = 1\n",
      "Test dataset with Myrmoborus leucophrys . Has  22  images\n",
      "Needs 4 images per class\n",
      "test_species is species_set[11:43,:,:]\n",
      "test_dataset[39:43,:,:] = test_species\n",
      "test_labels[39:43] = 1\n",
      "Valid dataset with Percnostola lophotes . Has  17  images.\n",
      "Needs 4 images per class\n",
      "valid_species is species_set[:4,:,:]\n",
      "valid_dataset[43:47,:,:] = valid_species\n",
      "valid_labels[43:47] = 1\n",
      "Train dataset with Percnostola lophotes . Has  17  images\n",
      "Needs 7 images per class\n",
      "train_species is species_set[4:11,:,:]\n",
      "train_dataset[69:76,:,:] = train_species\n",
      "train_labels[69:76] = 1\n",
      "Test dataset with Percnostola lophotes . Has  17  images\n",
      "Needs 4 images per class\n",
      "test_species is species_set[11:47,:,:]\n",
      "test_dataset[43:47,:,:] = test_species\n",
      "test_labels[43:47] = 1\n",
      "Training: (76, 100, 100) (76,)\n",
      "Validation: (47, 100, 100) (47,)\n",
      "Testing: (47, 100, 100) (47,)\n"
     ]
    }
   ],
   "source": [
    "# Mentor wants to try out Classifying just 2 Classes\n",
    "\n",
    "def merge_datasets_2Classes(pickle_files, train_size, valid_size, test_size, class_info):\n",
    "    num_classes = len(pickle_files) - 1\n",
    "    valid_dataset, valid_labels = make_arrays(valid_size, image_size)\n",
    "    train_dataset, train_labels = make_arrays(train_size, image_size)\n",
    "    test_dataset, test_labels = make_arrays(test_size, image_size)\n",
    "    \n",
    "    pckle = pickle_files[class_info[0]]\n",
    "    \n",
    "    try:\n",
    "        with open(pckle, 'rb') as f:\n",
    "            species_set = pickle.load(f) # set of images from species\n",
    "            # let's shuffle the letters to have random validation and training set\n",
    "            np.random.shuffle(species_set) # shuffle the data (the \"images\") in the pickle around \n",
    "\n",
    "            # |largest class| = 46. we want ~2:1 ratio for train dataset:*\n",
    "            # train size for this species is 23\n",
    "            # valid and test size are 11\n",
    "\n",
    "            vsize_per_class = 11\n",
    "            tsize_per_class = 23\n",
    "            tesize_per_class = 11\n",
    "\n",
    "            valid_species = species_set[:11, :, :]\n",
    "            valid_dataset[0:11, :, :] = valid_species\n",
    "            valid_labels[0:11] = 0\n",
    "\n",
    "\n",
    "            train_species = species_set[11:34, :, :]\n",
    "            train_dataset[0:23, :, :] = train_species\n",
    "            train_labels[0:23] = 0 # give label to all images in class\n",
    "\n",
    "            test_species = species_set[34:45, :, :]\n",
    "            test_dataset[0:11, :, :] = test_species\n",
    "            test_labels[0:11] = 0 # give label to all images in class\n",
    "                \n",
    "    except Exception as e:\n",
    "        print('Unable to process data from', pickle_file, ':', e)\n",
    "        raise\n",
    "\n",
    "    vsize_per_class = (valid_size - 11) // num_classes\n",
    "    tsize_per_class = 7 # dataset was not fully initialized if calculated in general way\n",
    "    tesize_per_class = (test_size - 11) // num_classes\n",
    "    \n",
    "    start_v, start_t, start_te = 11, 13, 11\n",
    "    end_v, end_t, end_te = (start_v + vsize_per_class), (start_t + tsize_per_class), (start_te + tesize_per_class)\n",
    "    end_l = vsize_per_class + tsize_per_class\n",
    "    end_tst = end_l + tesize_per_class\n",
    "    \n",
    "\n",
    "    for label, pickle_file in enumerate(pickle_files):\n",
    "        #print(start_v, end_v)\n",
    "        #print(start_t, end_v)\n",
    "        if (label == class_info[0]):\n",
    "            pass\n",
    "        name = (pickle_file.split('/')[-1]).split('.')[0]\n",
    "        try:\n",
    "            with open(pickle_file, 'rb') as f:\n",
    "                species_set = pickle.load(f) # set of images from species\n",
    "                # let's shuffle the letters to have random validation and training set\n",
    "                np.random.shuffle(species_set) # shuffle the data (the \"images\") in the pickle around \n",
    "                \n",
    "\n",
    "                print(\"Valid dataset with\", name, \". Has \", len(species_set), \" images.\")\n",
    "                print(\"Needs %d images per class\" % vsize_per_class)\n",
    "                print(\"valid_species is species_set[:%d,:,:]\" % vsize_per_class)\n",
    "                valid_species = species_set[:vsize_per_class, :, :]\n",
    "                print(\"valid_dataset[%d:%d,:,:] = valid_species\" % (start_v,end_v))\n",
    "                valid_dataset[start_v:end_v, :, :] = valid_species\n",
    "                print(\"valid_labels[%d:%d] = %d\" % (start_v,end_v,1))\n",
    "                valid_labels[start_v:end_v] = 1\n",
    "                start_v += vsize_per_class\n",
    "                end_v += vsize_per_class\n",
    "\n",
    "\n",
    "                print(\"Train dataset with\", name, \". Has \", len(species_set), \" images\")\n",
    "                print(\"Needs %d images per class\" % tsize_per_class)\n",
    "                print(\"train_species is species_set[%d:%d,:,:]\" % (vsize_per_class,end_l))\n",
    "                train_species = species_set[vsize_per_class:end_l, :, :]\n",
    "                print(\"train_dataset[%d:%d,:,:] = train_species\" % (start_t,end_t))\n",
    "                train_dataset[start_t:end_t, :, :] = train_species\n",
    "                print(\"train_labels[%d:%d] = %d\" % (start_t,end_t,1))\n",
    "                train_labels[start_t:end_t] = 1 # give label to all images in class    \n",
    "                start_t += tsize_per_class # offset start of class for next iteration \n",
    "                end_t += tsize_per_class # offset end of class for next iteration\n",
    "                \n",
    "                print(\"Test dataset with\", name, \". Has \", len(species_set), \" images\")\n",
    "                print(\"Needs %d images per class\" % tesize_per_class)\n",
    "                print(\"test_species is species_set[%d:%d,:,:]\" % (end_l, end_te))\n",
    "                test_species = species_set[end_l:end_tst, :, :]\n",
    "                print(\"test_dataset[%d:%d,:,:] = test_species\" % (start_te,end_te))\n",
    "                test_dataset[start_te:end_te, :, :] = test_species\n",
    "                print(\"test_labels[%d:%d] = %d\" % (start_te,end_te,1))\n",
    "                test_labels[start_te:end_te] = 1 # give label to all images in class\n",
    "                start_te += tesize_per_class # offset start of class for next iteration \n",
    "                end_te += tesize_per_class # offset end of class for next iteration\n",
    "                \n",
    "        except Exception as e:\n",
    "            print('Unable to process data from', pickle_file, ':', e)\n",
    "            raise\n",
    "    \n",
    "    return valid_dataset, valid_labels, train_dataset, train_labels, test_dataset, test_labels\n",
    "            \n",
    "# the number of images in our training, validation, and testing dataset respectively\n",
    "train_size = 76\n",
    "valid_size = 47\n",
    "test_size = 47\n",
    "\n",
    "valid_dataset, valid_labels, train_dataset, train_labels, test_dataset, test_labels = merge_datasets_2Classes(true_pickles, train_size, valid_size, test_size, class_info)\n",
    "\n",
    "\n",
    "print('Training:', train_dataset.shape, train_labels.shape)\n",
    "print('Validation:', valid_dataset.shape, valid_labels.shape)\n",
    "print('Testing:', test_dataset.shape, test_labels.shape)"
   ]
  },
  {
   "cell_type": "code",
   "execution_count": 48,
   "metadata": {
    "collapsed": true
   },
   "outputs": [],
   "source": [
    "# create dataset when dataset is not balanced, but want to use entire dataset\n",
    "def merge_datasets_forced(pickle_files, train_size, valid_size=0): # valid_size is 0 if not given as argument. \n",
    "    num_classes = len(pickle_files)\n",
    "    valid_dataset, valid_labels = make_arrays(valid_size, image_size)\n",
    "    train_dataset, train_labels = make_arrays(train_size, image_size)\n",
    "\n",
    "    vsize_per_class = valid_size // num_classes\n",
    "    tsize_per_class = train_size // num_classes\n",
    "\n",
    "    start_v, start_t = 0, 0\n",
    "    end_v, end_t = vsize_per_class, tsize_per_class\n",
    "    end_l = vsize_per_class+tsize_per_class\n",
    "\n",
    "    for label, pickle_file in enumerate(pickle_files):\n",
    "        #print(start_v, end_v)\n",
    "        #print(start_t, end_v)\n",
    "        name = (pickle_file.split('/')[-1]).split('.')[0]\n",
    "        try:\n",
    "            with open(pickle_file, 'rb') as f:\n",
    "                species_set = pickle.load(f) # set of images from species\n",
    "                if(len(species_set) < (tsize_per_class + vsize_per_class)):\n",
    "                    # since our dataset is not balanced we need to make sure\n",
    "                    # we're not taking more images than we have or dimmensions will not match\n",
    "                    # reset our ends to previous state, calculate new images_per_class, and \n",
    "                    # calculate new ends\n",
    "                    \n",
    "                    end_v -= vsize_per_class\n",
    "                    end_t -= tsize_per_class \n",
    "                    \n",
    "                    tsize_per_class = len(species_set) // 2\n",
    "                    vsize_per_class = len(species_set) // 2\n",
    "                    \n",
    "                    end_v += vsize_per_class\n",
    "                    end_t += tsize_per_class\n",
    "                    end_l = vsize_per_class+tsize_per_class \n",
    "                    \n",
    "                    \n",
    "                    \n",
    "                    # let's shuffle the letters to have random validation and training set\n",
    "                    np.random.shuffle(species_set) # shuffle the data (the \"images\") in the pickle around \n",
    "                    if valid_dataset is not None: # if not testing dataset \n",
    "\n",
    "                        print(\"Valid dataset with\", name, \". Has \", len(species_set), \" images.\")\n",
    "                        print(\"Needs %d images per class\" % vsize_per_class)\n",
    "                        print(\"valid_species is species_set[:%d,:,:]\" % vsize_per_class)\n",
    "                        valid_species = species_set[:vsize_per_class, :, :,:]\n",
    "                        print(\"valid_dataset[%d:%d,:,:] = valid_species\" % (start_v,end_v))\n",
    "                        valid_dataset[start_v:end_v, :, :,:] = valid_species\n",
    "                        print(\"valid_labels[%d:%d] = %d\" % (start_v,end_v,label))\n",
    "                        valid_labels[start_v:end_v] = label\n",
    "                        \n",
    "                        # increment our start by how many images we used for this class\n",
    "                        start_v += vsize_per_class\n",
    "                        # assume next class will have the required images_per_class\n",
    "                        end_v += (valid_size // num_classes)\n",
    "                    \n",
    "                        # can't reset vsize_per_class here since \n",
    "                        # the training dataset needs it's current state\n",
    "                    \n",
    "                    print(\"Train dataset with\", name, \". Has \", len(species_set), \" images\")\n",
    "                    print(\"Needs %d images per class\" % tsize_per_class)\n",
    "                    print(\"train_species is species_set[%d:%d,:,:]\" % (vsize_per_class,end_l))\n",
    "                    train_species = species_set[vsize_per_class:end_l, :, :,:]\n",
    "                    print(\"train_dataset[%d:%d,:,:] = train_species\" % (start_t,end_t))\n",
    "                    train_dataset[start_t:end_t, :, :,:] = train_species\n",
    "                    print(\"train_labels[%d:%d] = %d\" % (start_t,end_t,label))\n",
    "                    train_labels[start_t:end_t] = label # give label to all images in class\n",
    "                    \n",
    "                    # increment our start by how many images we used for this class\n",
    "                    start_t += tsize_per_class \n",
    "                    # assume next round will have required images_per_class\n",
    "                    tsize_per_class = train_size // num_classes\n",
    "                    end_t += tsize_per_class # offset end of class for next iteration\n",
    "                    vsize_per_class = valid_size // num_classes\n",
    "                    end_l = vsize_per_class+tsize_per_class\n",
    "                    \n",
    "                    \n",
    "                else: # we have enough images in this class to use our desired imgs_per_class\n",
    "                    \n",
    "                    \n",
    "                    tsize_per_class = train_size // num_classes\n",
    "                    vsize_per_class = valid_size // num_classes\n",
    "                    end_l = vsize_per_class+tsize_per_class\n",
    "                    \n",
    "                \n",
    "                    # let's shuffle the letters to have random validation and training set\n",
    "                    np.random.shuffle(species_set) # shuffle the data (the \"images\") in the pickle around \n",
    "                    if valid_dataset is not None: # if not testing dataset \n",
    "\n",
    "                        print(\"Valid dataset with\", name, \". Has \", len(species_set), \" images.\")\n",
    "                        print(\"Needs %d images per class\" % vsize_per_class)\n",
    "                        print(\"valid_species is species_set[:%d,:,:]\" % vsize_per_class)\n",
    "                        valid_species = species_set[:vsize_per_class, :, :,:]\n",
    "                        print(\"valid_dataset[%d:%d,:,:] = valid_species\" % (start_v,end_v))\n",
    "                        valid_dataset[start_v:end_v, :, :,:] = valid_species\n",
    "                        print(\"valid_labels[%d:%d] = %d\" % (start_v,end_v,label))\n",
    "                        valid_labels[start_v:end_v] = label\n",
    "                        start_v += vsize_per_class\n",
    "                        end_v += vsize_per_class\n",
    "\n",
    "\n",
    "                    print(\"Train dataset with\", name, \". Has \", len(species_set), \" images\")\n",
    "                    print(\"Needs %d images per class\" % tsize_per_class)\n",
    "                    print(\"train_species is species_set[%d:%d,:,:]\" % (vsize_per_class,end_l))\n",
    "                    train_species = species_set[vsize_per_class:end_l, :, :,:]\n",
    "                    print(\"train_dataset[%d:%d,:,:] = train_species\" % (start_t,end_t))\n",
    "                    train_dataset[start_t:end_t, :, :,:] = train_species\n",
    "                    print(\"train_labels[%d:%d] = %d\" % (start_t,end_t,label))\n",
    "                    train_labels[start_t:end_t] = label # give label to all images in class\n",
    "                    \n",
    "                    \n",
    "                    \n",
    "                    start_t += tsize_per_class # offset start of class for next iteration \n",
    "                    end_t += tsize_per_class # offset end of class for next iteration\n",
    "\n",
    "        except Exception as e:\n",
    "            print('Unable to process data from', pickle_file, ':', e)\n",
    "            raise\n",
    "        print()\n",
    "    \n",
    "    return valid_dataset, valid_labels, train_dataset, train_labels\n",
    "\n"
   ]
  },
  {
   "cell_type": "code",
   "execution_count": 40,
   "metadata": {
    "collapsed": true
   },
   "outputs": [],
   "source": [
    "def genLabelMap(pickle_files):\n",
    "    label_map = {}\n",
    "    for label, pickle_file in enumerate(pickle_files):\n",
    "        name = (pickle_file.split('/')[-1]).split('.')[0]\n",
    "        label_map[label] = name\n",
    "    return label_map\n",
    "\n",
    "def sampleCheck(dataset, labels, label_map):\n",
    "    i = random.randint(1, 5)\n",
    "    for p_i, img in enumerate(random.sample(range(len(labels)), 5*i)):\n",
    "        plt.subplot(i, 5, p_i+1)\n",
    "        plt.axis('off')\n",
    "        label = labels[img]\n",
    "        species = label_map[label]\n",
    "        #print(species)\n",
    "        title =  species + ' sample:'\n",
    "        plt.title(title)\n",
    "        plt.imshow(dataset[img])\n",
    "        plt.show()"
   ]
  },
  {
   "cell_type": "code",
   "execution_count": 41,
   "metadata": {},
   "outputs": [
    {
     "data": {
      "image/png": "[encoded data removed]",
      "text/plain": [
       "<matplotlib.figure.Figure at 0x10587ac88>"
      ]
     },
     "metadata": {},
     "output_type": "display_data"
    },
    {
     "data": {
      "image/png": "[encoded data removed]",
      "text/plain": [
       "<matplotlib.figure.Figure at 0x108aa4828>"
      ]
     },
     "metadata": {},
     "output_type": "display_data"
    },
    {
     "data": {
      "image/png": "[encoded data removed]",
      "text/plain": [
       "<matplotlib.figure.Figure at 0x10c1ff160>"
      ]
     },
     "metadata": {},
     "output_type": "display_data"
    },
    {
     "data": {
      "image/png": "[encoded data removed]",
      "text/plain": [
       "<matplotlib.figure.Figure at 0x10c264358>"
      ]
     },
     "metadata": {},
     "output_type": "display_data"
    },
    {
     "data": {
      "image/png": "[encoded data removed]",
      "text/plain": [
       "<matplotlib.figure.Figure at 0x10c2da5f8>"
      ]
     },
     "metadata": {},
     "output_type": "display_data"
    }
   ],
   "source": [
    "label_map = genLabelMap(true_pickles)\n",
    "sampleCheck(train_dataset, train_labels,label_map)"
   ]
  },
  {
   "cell_type": "code",
   "execution_count": 42,
   "metadata": {},
   "outputs": [
    {
     "data": {
      "image/png": "[encoded data removed]",
      "text/plain": [
       "<matplotlib.figure.Figure at 0x10c2fb518>"
      ]
     },
     "metadata": {},
     "output_type": "display_data"
    },
    {
     "data": {
      "image/png": "[encoded data removed]",
      "text/plain": [
       "<matplotlib.figure.Figure at 0x10c1f6278>"
      ]
     },
     "metadata": {},
     "output_type": "display_data"
    },
    {
     "data": {
      "image/png": "[encoded data removed]",
      "text/plain": [
       "<matplotlib.figure.Figure at 0x104906048>"
      ]
     },
     "metadata": {},
     "output_type": "display_data"
    },
    {
     "data": {
      "image/png": "[encoded data removed]",
      "text/plain": [
       "<matplotlib.figure.Figure at 0x10c2e2128>"
      ]
     },
     "metadata": {},
     "output_type": "display_data"
    },
    {
     "data": {
      "image/png": "[encoded data removed]",
      "text/plain": [
       "<matplotlib.figure.Figure at 0x10c296ba8>"
      ]
     },
     "metadata": {},
     "output_type": "display_data"
    }
   ],
   "source": [
    "sampleCheck(valid_dataset, valid_labels, label_map)"
   ]
  },
  {
   "cell_type": "code",
   "execution_count": 43,
   "metadata": {},
   "outputs": [
    {
     "data": {
      "image/png": "[encoded data removed]",
      "text/plain": [
       "<matplotlib.figure.Figure at 0x108c7a048>"
      ]
     },
     "metadata": {},
     "output_type": "display_data"
    },
    {
     "data": {
      "image/png": "[encoded data removed]",
      "text/plain": [
       "<matplotlib.figure.Figure at 0x10c30c898>"
      ]
     },
     "metadata": {},
     "output_type": "display_data"
    },
    {
     "data": {
      "image/png": "[encoded data removed]",
      "text/plain": [
       "<matplotlib.figure.Figure at 0x10903f860>"
      ]
     },
     "metadata": {},
     "output_type": "display_data"
    },
    {
     "data": {
      "image/png": "[encoded data removed]",
      "text/plain": [
       "<matplotlib.figure.Figure at 0x108c91470>"
      ]
     },
     "metadata": {},
     "output_type": "display_data"
    },
    {
     "data": {
      "image/png": "[encoded data removed]",
      "text/plain": [
       "<matplotlib.figure.Figure at 0x109222630>"
      ]
     },
     "metadata": {},
     "output_type": "display_data"
    }
   ],
   "source": [
    "sampleCheck(test_dataset, test_labels, label_map)"
   ]
  },
  {
   "cell_type": "code",
   "execution_count": 44,
   "metadata": {
    "collapsed": true
   },
   "outputs": [],
   "source": [
    "# serialize our dataset for later use\n",
    "\n",
    "pickle_file = '../dataset/arbimonTest1.pickle'\n",
    "\n",
    "try:\n",
    "  f = open(pickle_file, 'wb')\n",
    "  save = {\n",
    "    'train_dataset': train_dataset,\n",
    "    'train_labels': train_labels,\n",
    "    'valid_dataset': valid_dataset,\n",
    "    'valid_labels': valid_labels,\n",
    "    'test_dataset': test_dataset,\n",
    "    'test_labels': test_labels,\n",
    "    } \n",
    "  pickle.dump(save, f, pickle.HIGHEST_PROTOCOL) # save all out datasets in one pickle \n",
    "  f.close()\n",
    "except Exception as e:\n",
    "  print('Unable to save data to', pickle_file, ':', e)\n",
    "  raise"
   ]
  }
 ],
 "metadata": {
  "kernelspec": {
   "display_name": "Python 3",
   "language": "python",
   "name": "python3"
  },
  "language_info": {
   "codemirror_mode": {
    "name": "ipython",
    "version": 3
   },
   "file_extension": ".py",
   "mimetype": "text/x-python",
   "name": "python",
   "nbconvert_exporter": "python",
   "pygments_lexer": "ipython3",
   "version": "3.6.1"
  }
 },
 "nbformat": 4,
 "nbformat_minor": 2
}
