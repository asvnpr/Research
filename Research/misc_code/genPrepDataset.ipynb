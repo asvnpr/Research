{
 "cells": [
  {
   "cell_type": "markdown",
   "metadata": {},
   "source": [
    "# Generate and Prepare Dataset\n",
    "In this notebook we'll generate our raw dataset of images of spectrograms of ROIs, augment our dataset to  \n",
    "increase its size, store the dataset info as a yaml file, and serialize it.\n",
    "\n",
    "We'll also prepare our dataset by augmenting the dataset (shifting the images 10 pixels in a different direction 4   times), convert our images to graycale, making the images square, and organizing the dataset in an appropriate format. "
   ]
  },
  {
   "cell_type": "code",
   "execution_count": 1,
   "metadata": {
    "collapsed": true
   },
   "outputs": [],
   "source": [
    "# dependencies\n",
    "import pylab\n",
    "from pylab import *\n",
    "import wave\n",
    "import openpyxl\n",
    "import yaml\n",
    "import os\n",
    "import shutil\n",
    "import _pickle as cpl # import cPickle\n",
    "import tarfile\n",
    "from six.moves import cPickle as pickle\n",
    "from PIL import Image, ImageOps\n",
    "from IPython.display import display as disp\n",
    "from IPython.display import Image as Im\n",
    "from scipy import ndimage\n",
    "import random"
   ]
  },
  {
   "cell_type": "markdown",
   "metadata": {},
   "source": [
    "In this notebook, we declare functions to obtain a dataset from an Excel ROI file.  \n",
    "Dataset will be a dictionary of form:  \n",
    "{\n",
    "species:  \n",
    "    {  \n",
    "        min_freqs:[list]  \n",
    "        max_freqs:[list]  \n",
    "        start_time:[list]  \n",
    "        end_time:[list]  \n",
    "        recording name:[list]  \n",
    "    }  \n",
    "    ...  \n",
    "}  \n",
    "We also have a function to create a simplified dataset of form:\n",
    "{  \n",
    "species:  \n",
    "    {  \n",
    "        min_freq:val  \n",
    "        max_freq:val  \n",
    "        avg_time:val  \n",
    "        recording name:[list]  \n",
    "    }  \n",
    "    ...  \n",
    "}  \n",
    "     \n",
    "We will save these dictionaries as yaml files"
   ]
  },
  {
   "cell_type": "markdown",
   "metadata": {},
   "source": [
    "### Get relevant info from wav files"
   ]
  },
  {
   "cell_type": "code",
   "execution_count": 2,
   "metadata": {
    "collapsed": true
   },
   "outputs": [],
   "source": [
    "def wavInfo(rec_file):\n",
    "    wav_file = wave.open(rec_file, 'r')\n",
    "    frames = wav_file.readframes(-1)\n",
    "    wave_info = pylab.fromstring(frames, 'Int16') #all .wavs in our dataset are 16bit\n",
    "    framerate = wav_file.getframerate()\n",
    "    wav_file.close()\n",
    "    return wave_info, framerate"
   ]
  },
  {
   "cell_type": "markdown",
   "metadata": {},
   "source": [
    "### Get spectrogram info from a wav file\n",
    "We'll obtain:  \n",
    "spectrum: 2-D array of periodograms of succesive  \n",
    "freqs: frequencies corresponding to rows in spectrum  \n",
    "t: times of midpoints in segments (columns in spectrum)  "
   ]
  },
  {
   "cell_type": "code",
   "execution_count": 3,
   "metadata": {
    "collapsed": true
   },
   "outputs": [],
   "source": [
    "# get info. don't graph\n",
    "def specInfo(rec_file):\n",
    "    wave_info, framerate = wavInfo(rec_file)\n",
    "    spectrum, freqs, t, _ = pylab.specgram(wave_info, NFFT=512, noverlap=256, window=pylab.window_hanning, Fs=framerate)\n",
    "    del _\n",
    "    return spectrum, freqs, t\n",
    "    #pylab.savefig(\"%s_spectrogram.png\" % rec_file)"
   ]
  },
  {
   "cell_type": "markdown",
   "metadata": {},
   "source": [
    "### Obtain the bounds of the spectrogram ROI we're going to build\n",
    "We'll use a modified binary search to find the rightmost and leftmost values that meet our conditions. "
   ]
  },
  {
   "cell_type": "code",
   "execution_count": 4,
   "metadata": {
    "collapsed": true
   },
   "outputs": [],
   "source": [
    "# search for the index of the leftmost value in an ordered array \n",
    "# (of times or frequencies in our case) that still meet our criteria\n",
    "def leftmostBinSearch(A, lo, hi, target):\n",
    "    mid = (lo + hi) // 2\n",
    "    v1 = A[mid]\n",
    "    if (v1 >= target):\n",
    "        if (mid > 0 and A[mid - 1] > target):\n",
    "            return leftmostBinSearch(A, lo, mid-1, target)\n",
    "        else:\n",
    "            return mid\n",
    "    elif (A[mid] < target):\n",
    "        return leftmostBinSearch(A, mid+1, hi, target)\n",
    "    else:\n",
    "        return leftmostBinSearch(A, lo, mid-1, target)\n",
    "\n",
    "# search for the index of the rightmost value in an ordered array \n",
    "# (of times or frequencies in our case) that still meet our criteria\n",
    "def rightmostBinSearch(A, lo, hi, target): \n",
    "    mid = (lo + hi) // 2\n",
    "    v1 = A[mid]\n",
    "    if (v1 <= target):\n",
    "        if (mid < (len(A) - 1) and A[mid + 1] <= target):\n",
    "            return rightmostBinSearch(A, mid+1, hi, target)\n",
    "        else:\n",
    "            return mid\n",
    "    elif (A[mid] < target):\n",
    "        return rightmostBinSearch(A, mid+1, hi, target)\n",
    "    else:\n",
    "        return rightmostBinSearch(A, lo, mid-1, target)"
   ]
  },
  {
   "cell_type": "code",
   "execution_count": 5,
   "metadata": {
    "collapsed": true
   },
   "outputs": [],
   "source": [
    "def getBounds(A, minVal, maxVal):\n",
    "    left = leftmostBinSearch(A, 0, len(A)-1, minVal)\n",
    "    right = rightmostBinSearch(A, 0, len(A)-1, maxVal)\n",
    "    return left, right"
   ]
  },
  {
   "cell_type": "markdown",
   "metadata": {},
   "source": [
    "### Build spectrograms of ROI's\n",
    "Returns the spectrum matrix with only the values we're interested in."
   ]
  },
  {
   "cell_type": "code",
   "execution_count": 6,
   "metadata": {
    "collapsed": true
   },
   "outputs": [],
   "source": [
    "# get modified spectrum of frequencies and times that matter to us\n",
    "def specMod(spectrum, freqs, times, f1, f2, t1, t2):\n",
    "    spectrumMod = [spectrum[f1][t1:t2]]\n",
    "    for f in range(f1+1, f2):\n",
    "            spectrumMod = spectrumMod + [spectrum[f][t1:t2]]\n",
    "    return spectrumMod"
   ]
  },
  {
   "cell_type": "code",
   "execution_count": 7,
   "metadata": {
    "collapsed": true
   },
   "outputs": [],
   "source": [
    "# based off: http://stackoverflow.com/questions/15961979/how-do-i-plot-a-spectrogram-the-same-way-that-pylabs-specgram-does\n",
    "# plot the spectrogram of our region of interest\n",
    "def plotModSpecSimple(specMod, freqs, times, file):\n",
    "    \n",
    "    fig, ax = pylab.subplots(1)\n",
    "    pylab.pcolormesh(times, freqs, 10 * pylab.log10(specMod))\n",
    "    fig.subplots_adjust(left=0,right=1,bottom=0,top=1)\n",
    "    ax.axis('tight')\n",
    "    ax.axis('off')\n",
    "    pylab.savefig(file)\n",
    "    return fig"
   ]
  },
  {
   "cell_type": "code",
   "execution_count": 8,
   "metadata": {
    "collapsed": true
   },
   "outputs": [],
   "source": [
    "def speciesData(workbook):\n",
    "    roi_ws = openpyxl.load_workbook(workbook)['ROIs'] # should change accordingly to where and how you data is stored\n",
    "    dataset = {}\n",
    "    # needed format:\n",
    "    # species specimen per row\n",
    "    # columns: species name, start_time, end_time, min_freq, max_freq, recording name\n",
    "    # columns A to F\n",
    "    sheetMatrix = list(roi_ws.iter_rows())\n",
    "    # remove row with column names and create array of keys per species. (e.g. start_time, end_time, ...)\n",
    "    keys = sheetMatrix.pop(0) \n",
    "    for row in sheetMatrix:\n",
    "        speciesName = row[0].value\n",
    "        if (speciesName not in dataset):\n",
    "            dataset[speciesName] = {}\n",
    "        for col in range(1,len(row)):\n",
    "            cell = ''\n",
    "            # change recording extension since we are dealing with wav files\n",
    "            if (col == 5):\n",
    "                cell = row[col].value.split('.')[0]\n",
    "                cell += '.wav'\n",
    "            else:\n",
    "                cell = row[col].value\n",
    "            # if per species key is not present add the key and add the value as the first element in a list\n",
    "            if (keys[col].value not in dataset[speciesName]): \n",
    "                dataset[speciesName][keys[col].value] = [cell]\n",
    "            # append to the list of attributes \n",
    "            else:\n",
    "                dataset[speciesName][keys[col].value] = dataset[speciesName][keys[col].value] + [cell]\n",
    "    return dataset"
   ]
  },
  {
   "cell_type": "code",
   "execution_count": 9,
   "metadata": {
    "collapsed": true
   },
   "outputs": [],
   "source": [
    "def dataToYAML(data, name): # convert speciesData dictionary to yaml and save file\n",
    "    # need to check if file exists then delete it\n",
    "    path = '../dataset/' + name\n",
    "    dataset = open(path, 'w+')\n",
    "    dump = yaml.dump(data, dataset, default_flow_style=False)\n",
    "    dataset.close()"
   ]
  },
  {
   "cell_type": "code",
   "execution_count": 10,
   "metadata": {
    "collapsed": true
   },
   "outputs": [],
   "source": [
    "def findMax(L):\n",
    "    Max = float('-inf')\n",
    "    for n in L:\n",
    "        if (n > Max):\n",
    "            Max = n\n",
    "    return Max\n",
    "\n",
    "def findMin(L):\n",
    "    Min = float('inf')\n",
    "    for n in L:\n",
    "        if (n < Min):\n",
    "            Min = n\n",
    "    return Min"
   ]
  },
  {
   "cell_type": "code",
   "execution_count": 11,
   "metadata": {
    "collapsed": true
   },
   "outputs": [],
   "source": [
    "#need to decide if exceed bounds of spectrograms or restrict\n",
    "# WIP. time data is wrong. need to find average time duration\n",
    "# def simplifiedSpeciesData(data): \n",
    "#     simplDat = {}\n",
    "#     for species in data:\n",
    "#         min_freqs = data[species]['min_frequency']\n",
    "#         max_freqs = data[species]['max_frequency']\n",
    "#         min_times = data[species]['start_time']\n",
    "#         max_times = data[species]['end_time']\n",
    "#         min_f = findMin(min_freqs)\n",
    "#         max_f = findMax(max_freqs)\n",
    "#         start = findMin(min_times)\n",
    "#         end = findMax(max_times)\n",
    "#         simplDat[species] = {'min_freq':min_f, 'max_freq':max_f, 'delta_time':(end - start), 'recording name':data[species]['recording name']}\n",
    "#     return simplDat\n",
    "        "
   ]
  },
  {
   "cell_type": "code",
   "execution_count": 12,
   "metadata": {
    "collapsed": true
   },
   "outputs": [],
   "source": [
    "# save our species data dictionary as a .yaml file for later use\n",
    "workbook = '../dataset/validationsAndROIs.xlsx'\n",
    "data = speciesData(workbook)\n",
    "dataToYAML(data, 'dataset.yaml')\n",
    "#simpleData = simplifiedSpeciesData(data)\n",
    "#dataToYAML(simpleData, 'simplifiedDataset.yaml')"
   ]
  },
  {
   "cell_type": "markdown",
   "metadata": {},
   "source": [
    "### Generate our dataset\n",
    "Now we'll use our previous functions to go through our generated dictionary and create a  \n",
    "Raw unprocessed dataset of spectrogram of ROIs in appropriate directories per species  \n",
    "and returning our dataset as a 2D array of dictionaries that contain our images.  "
   ]
  },
  {
   "cell_type": "code",
   "execution_count": 13,
   "metadata": {
    "collapsed": true
   },
   "outputs": [],
   "source": [
    "def getRawSpecDataset(dataset, path='../dataset'):\n",
    "    \n",
    "    # make directory to store our spec dataset\n",
    "    dataset_path = path + '/spectrogram_roi_dataset'\n",
    "    if not os.path.exists(dataset_path):\n",
    "        os.makedirs(dataset_path)\n",
    "    else:\n",
    "        shutil.rmtree(dataset_path)\n",
    "        os.makedirs(dataset_path)\n",
    "    species = dataset.keys()\n",
    "    \n",
    "    # image data to be pickled \n",
    "    specs = {}\n",
    "    \n",
    "    for s in species:\n",
    "        s_dir = dataset_path + '/' + s\n",
    "        s_spec = []\n",
    "        os.makedirs(s_dir) # make a directory per species\n",
    "        \n",
    "        # load species ROI data\n",
    "        min_freqs = dataset[s]['min_frequency']\n",
    "        max_freqs = dataset[s]['max_frequency']\n",
    "        starts = dataset[s]['start_time']\n",
    "        ends = dataset[s]['end_time']\n",
    "        recs = dataset[s]['recording name']\n",
    "        \n",
    "        for i in range(0, len(recs)):\n",
    "            rec = '../dataset/recordings/' + recs[i] # path to ith recording file where s is present\n",
    "            spectrum, freqs, times = specInfo(rec) # get entire spectrogram data from rec\n",
    "            \n",
    "            # get ROI info in rec\n",
    "            t_0 = starts[i] \n",
    "            t_n = ends[i]\n",
    "            f_0 = min_freqs[i]\n",
    "            f_n = max_freqs[i]\n",
    "            \n",
    "            # find closest times and freqs that match ROI info\n",
    "            t_start, t_end = getBounds(times, t_0, t_n)\n",
    "            f_start, f_end = getBounds(freqs, f_0, f_n)\n",
    "            \n",
    "            # get modified spectrum, freqs, and times\n",
    "            spectrumMod = specMod(spectrum, freqs, times, f_start, f_end, t_start, t_end)\n",
    "            freqMod = freqs[f_start:f_end]\n",
    "            timeMod = times[t_start:t_end]\n",
    "            filename = s_dir + '/' + s + '_spec_' + str(i+1) + '.png'\n",
    "            \n",
    "            # plot the spectrogram of ROI and save the image \n",
    "            f = plotModSpecSimple(spectrumMod, freqMod, timeMod, filename)\n",
    "            s_spec.append(f) # append image to list of ROI spectrograms per species\n",
    "            plt.close()\n",
    "            #pylab.close\n",
    "        \n",
    "        # update our dictionary with key <species_name> and value <list_of_spectrogram_figures>\n",
    "        specs[s] = s_spec\n",
    "    \n",
    "    return specs"
   ]
  },
  {
   "cell_type": "code",
   "execution_count": 14,
   "metadata": {},
   "outputs": [
    {
     "name": "stderr",
     "output_type": "stream",
     "text": [
      "/usr/local/lib/python3.6/site-packages/ipykernel/__main__.py:4: DeprecationWarning: Numeric-style type codes are deprecated and will result in an error in the future.\n"
     ]
    }
   ],
   "source": [
    "yamlData = open('../dataset/dataset.yaml', 'r')\n",
    "dataset = yaml.load(yamlData)\n",
    "yamlData.close()\n",
    "data = getRawSpecDataset(dataset)"
   ]
  },
  {
   "cell_type": "markdown",
   "metadata": {},
   "source": [
    "Finally, we'll package our dataset in a more manageble format by:  \n",
    "* archiving and compressing our dataset directory into a .tar.bz2 file\n",
    "* serializing our dataset object into a folder of pickles (was recieving errors when  \n",
    "  I tried to serialize the whole object. maybe too big?)"
   ]
  },
  {
   "cell_type": "code",
   "execution_count": 15,
   "metadata": {
    "collapsed": true
   },
   "outputs": [],
   "source": [
    "def serializeDataset(obj, path='../dataset'):\n",
    "    pickle_path = path + '/pickle_data'\n",
    "    # create pickle directory if exists, else overwrite it\n",
    "    if not os.path.exists(pickle_path):\n",
    "        os.makedirs(pickle_path)\n",
    "    else:\n",
    "        shutil.rmtree(pickle_path)\n",
    "        os.makedirs(pickle_path)\n",
    "    for s in obj.keys():\n",
    "        data = obj[s]\n",
    "        picklename = pickle_path + '/' + s + '.pickle'\n",
    "        with open(picklename, 'wb+') as pn:\n",
    "            cpl.dump(data, pn)"
   ]
  },
  {
   "cell_type": "code",
   "execution_count": 16,
   "metadata": {
    "collapsed": true
   },
   "outputs": [],
   "source": [
    "# serializeDataset(data)\n",
    "# not sure I'm serializing my data correctly. Getting 6GB of data from a dataset that is < 5MB"
   ]
  },
  {
   "cell_type": "code",
   "execution_count": 17,
   "metadata": {
    "collapsed": true
   },
   "outputs": [],
   "source": [
    "def archiveAndCompress(path):\n",
    "    directory = path.split('/')[0:-1]\n",
    "    directory = '/'.join(directory)\n",
    "    archive_name = directory + '/' + path.split('/')[-1] + '.tar.bz2'\n",
    "    with tarfile.open(archive_name, 'w:bz2') as archive:\n",
    "        folder = os.listdir(path)\n",
    "        for f in folder:\n",
    "            f = path + '/' + f\n",
    "            archive.add(f, arcname=os.path.basename(f))"
   ]
  },
  {
   "cell_type": "code",
   "execution_count": 18,
   "metadata": {
    "collapsed": true
   },
   "outputs": [],
   "source": [
    "#archiveAndCompress('../dataset/spectrogram_roi_dataset')\n",
    "#archiveAndCompress('../dataset/pickle_data')"
   ]
  },
  {
   "cell_type": "markdown",
   "metadata": {},
   "source": [
    "Running these functions should result in:\n",
    "* .yaml file that contains the structure of our dataset\n",
    "* a spectrogram_roi_dataset directory that contains directories of species and their ROI spectrograms\n",
    "* a spectrogram_roi_dataset.tar.bz2\n",
    "* a pickle_data direcrory that contains a pickle of the ROI spectrograms of each species\n",
    "* a pickle_data.tar.bz2  "
   ]
  },
  {
   "cell_type": "markdown",
   "metadata": {},
   "source": [
    "### Processing of Dataset\n",
    "Here we'll process our dataset by changing the image dimmensions to a square and converting them to grayscale."
   ]
  },
  {
   "cell_type": "code",
   "execution_count": 19,
   "metadata": {
    "collapsed": true
   },
   "outputs": [],
   "source": [
    "def squareAndGrayImage(image, size, path, species, name):\n",
    "    # open our image and convert to grayscale \n",
    "    # (needed since color channels add a third dimmension)\n",
    "    im = image.convert('L')\n",
    "    # dimmensions of square image\n",
    "    size = (size,size)\n",
    "    # resize our image and adjust if image is not square. save our image\n",
    "    proc_image = ImageOps.fit(im, size, Image.ANTIALIAS)\n",
    "    proc_image.save(path + '/' + species + '/squared_' + name)\n",
    "    return proc_image\n",
    "    #print(ndimage.imread(path + '/' + species + '/squared_' + name).shape)"
   ]
  },
  {
   "cell_type": "markdown",
   "metadata": {},
   "source": [
    "### Augment Dataset\n",
    "Here we'll increase the size of our dataset by augmenting our current dataset.  \n",
    "We'll do this by shifting each image 10 pixels up, left, down, and right independently.  \n",
    "\n",
    "All credit to the augmentation code goes to my lab partner, [Ian Flores](https://github.com/ian-flores/Deep-Learning-Species-Identification/).  "
   ]
  },
  {
   "cell_type": "code",
   "execution_count": 87,
   "metadata": {
    "collapsed": true
   },
   "outputs": [],
   "source": [
    "def augmentAndProcessDataset(raw_dataset_path, processed_dataset_path):\n",
    "    \n",
    "    # this may have some solutions for more efficient shifting where we can \n",
    "    # add values to not zero out part of our image:\n",
    "    # https://stackoverflow.com/questions/30399534/shift-elements-in-a-numpy-array\n",
    "    \n",
    "    shift = ndimage.interpolation.shift\n",
    "    \n",
    "    if not os.path.exists(processed_dataset_path):\n",
    "        os.makedirs(processed_dataset_path)\n",
    "    else:\n",
    "        shutil.rmtree(processed_dataset_path)\n",
    "        os.makedirs(processed_dataset_path)\n",
    "    \n",
    "    for species in os.listdir(raw_dataset_path):\n",
    "        s_images = os.listdir(raw_dataset_path + '/' + species)\n",
    "        os.makedirs(processed_dataset_path + '/' + species)\n",
    "        for image in s_images:\n",
    "            og_im = Image.open(raw_dataset_path + '/' + species + '/' + image)\n",
    "            proc_im = squareAndGrayImage(og_im, 100, processed_dataset_path, species, 'processed_og_'+image)\n",
    "            im = np.asarray(proc_im, dtype=np.float32)\n",
    "            # consult Ian. was doing 11 shifts\n",
    "            # consult about direction. produced files may be mislabeled\n",
    "            # values are being zeroed out. may be a concern since \n",
    "            # 10 pixel shift with 10 pixels zeroed out means we're losing 1-10%\n",
    "            # of the image's data. could be as simple as making the images larger\n",
    "            for i in range(1,11):\n",
    "                format_im = im.reshape((100,100))\n",
    "                \n",
    "                im_left = shift(format_im, [-i,0])\n",
    "                im_left = Image.fromarray(im_left)\n",
    "                squareAndGrayImage(im_left, 100, processed_dataset_path, species, 'processed_left_sh_'+str(i)+'_'+image)\n",
    "                \n",
    "                im_up = shift(format_im, [0,-i])\n",
    "                im_up = Image.fromarray(im_up)\n",
    "                squareAndGrayImage(im_up, 100, processed_dataset_path, species, 'processed_up_sh_'+str(i)+'_'+image)\n",
    "                \n",
    "                im_right = shift(format_im, [i,0])\n",
    "                im_right = Image.fromarray(im_right)\n",
    "                squareAndGrayImage(im_right, 100, processed_dataset_path, species, 'processed_right_sh_'+str(i)+'_'+image)\n",
    "                \n",
    "                im_down = shift(format_im, [0,i])\n",
    "                im_down = Image.fromarray(im_down)\n",
    "                squareAndGrayImage(im_down, 100, processed_dataset_path, species, 'processed_down_sh_'+str(i)+'_'+image)"
   ]
  },
  {
   "cell_type": "code",
   "execution_count": 88,
   "metadata": {
    "collapsed": true
   },
   "outputs": [],
   "source": [
    "# generate our processed dataset\n",
    "raw_dataset = '../dataset/spectrogram_roi_dataset'\n",
    "processed_dataset_path = '../dataset/processed_roi_dataset'\n",
    "augmentAndProcessDataset(raw_dataset, processed_dataset_path)"
   ]
  },
  {
   "cell_type": "markdown",
   "metadata": {},
   "source": [
    "### Let's display a sample per class"
   ]
  },
  {
   "cell_type": "code",
   "execution_count": 89,
   "metadata": {},
   "outputs": [
    {
     "name": "stdout",
     "output_type": "stream",
     "text": [
      "Here's a random sample from each class in the training dataset:\n",
      "Eleutherodactylus coqui sample :\n"
     ]
    },
    {
     "data": {
      "image/png": "[encoded data removed]",
      "text/plain": [
       "<IPython.core.display.Image object>"
      ]
     },
     "metadata": {},
     "output_type": "display_data"
    },
    {
     "name": "stdout",
     "output_type": "stream",
     "text": [
      "Myrmoborus leucophrys sample :\n"
     ]
    },
    {
     "data": {
      "image/png": "[encoded data removed]",
      "text/plain": [
       "<IPython.core.display.Image object>"
      ]
     },
     "metadata": {},
     "output_type": "display_data"
    },
    {
     "name": "stdout",
     "output_type": "stream",
     "text": [
      "Eleutherodactylus cooki sample :\n"
     ]
    },
    {
     "data": {
      "image/png": "[encoded data removed]",
      "text/plain": [
       "<IPython.core.display.Image object>"
      ]
     },
     "metadata": {},
     "output_type": "display_data"
    },
    {
     "name": "stdout",
     "output_type": "stream",
     "text": [
      "Formicarius analis sample :\n"
     ]
    },
    {
     "data": {
      "image/png": "[encoded data removed]",
      "text/plain": [
       "<IPython.core.display.Image object>"
      ]
     },
     "metadata": {},
     "output_type": "display_data"
    },
    {
     "name": "stdout",
     "output_type": "stream",
     "text": [
      "Hypocnemis subflava sample :\n"
     ]
    },
    {
     "data": {
      "image/png": "[encoded data removed]",
      "text/plain": [
       "<IPython.core.display.Image object>"
      ]
     },
     "metadata": {},
     "output_type": "display_data"
    },
    {
     "name": "stdout",
     "output_type": "stream",
     "text": [
      "Thamnophilus schistaceus sample :\n"
     ]
    },
    {
     "data": {
      "image/png": "[encoded data removed]",
      "text/plain": [
       "<IPython.core.display.Image object>"
      ]
     },
     "metadata": {},
     "output_type": "display_data"
    },
    {
     "name": "stdout",
     "output_type": "stream",
     "text": [
      "Eleutherodactylus cochranae sample :\n"
     ]
    },
    {
     "data": {
      "image/png": "[encoded data removed]",
      "text/plain": [
       "<IPython.core.display.Image object>"
      ]
     },
     "metadata": {},
     "output_type": "display_data"
    },
    {
     "name": "stdout",
     "output_type": "stream",
     "text": [
      "Basileuterus chrysogaster sample :\n"
     ]
    },
    {
     "data": {
      "image/png": "[encoded data removed]",
      "text/plain": [
       "<IPython.core.display.Image object>"
      ]
     },
     "metadata": {},
     "output_type": "display_data"
    },
    {
     "name": "stdout",
     "output_type": "stream",
     "text": [
      "Megascops nudipes sample :\n"
     ]
    },
    {
     "data": {
      "image/png": "[encoded data removed]",
      "text/plain": [
       "<IPython.core.display.Image object>"
      ]
     },
     "metadata": {},
     "output_type": "display_data"
    },
    {
     "name": "stdout",
     "output_type": "stream",
     "text": [
      "Eleutherodactylus juanariveroi sample :\n"
     ]
    },
    {
     "data": {
      "image/png": "[encoded data removed]",
      "text/plain": [
       "<IPython.core.display.Image object>"
      ]
     },
     "metadata": {},
     "output_type": "display_data"
    },
    {
     "name": "stdout",
     "output_type": "stream",
     "text": [
      "Myrmeciza hemimelaena sample :\n"
     ]
    },
    {
     "data": {
      "image/png": "[encoded data removed]",
      "text/plain": [
       "<IPython.core.display.Image object>"
      ]
     },
     "metadata": {},
     "output_type": "display_data"
    },
    {
     "name": "stdout",
     "output_type": "stream",
     "text": [
      "Eleutherodactylus brittoni sample :\n"
     ]
    },
    {
     "data": {
      "image/png": "[encoded data removed]",
      "text/plain": [
       "<IPython.core.display.Image object>"
      ]
     },
     "metadata": {},
     "output_type": "display_data"
    },
    {
     "name": "stdout",
     "output_type": "stream",
     "text": [
      "Chlorothraupis carmioli sample :\n"
     ]
    },
    {
     "data": {
      "image/png": "[encoded data removed]",
      "text/plain": [
       "<IPython.core.display.Image object>"
      ]
     },
     "metadata": {},
     "output_type": "display_data"
    },
    {
     "name": "stdout",
     "output_type": "stream",
     "text": [
      "Unknown Insect sample :\n"
     ]
    },
    {
     "data": {
      "image/png": "[encoded data removed]",
      "text/plain": [
       "<IPython.core.display.Image object>"
      ]
     },
     "metadata": {},
     "output_type": "display_data"
    },
    {
     "name": "stdout",
     "output_type": "stream",
     "text": [
      "Percnostola lophotes sample :\n"
     ]
    },
    {
     "data": {
      "image/png": "[encoded data removed]",
      "text/plain": [
       "<IPython.core.display.Image object>"
      ]
     },
     "metadata": {},
     "output_type": "display_data"
    },
    {
     "name": "stdout",
     "output_type": "stream",
     "text": [
      "Basileuterus bivittatus sample :\n"
     ]
    },
    {
     "data": {
      "image/png": "[encoded data removed]",
      "text/plain": [
       "<IPython.core.display.Image object>"
      ]
     },
     "metadata": {},
     "output_type": "display_data"
    },
    {
     "name": "stdout",
     "output_type": "stream",
     "text": [
      "Megascops guatemalae sample :\n"
     ]
    },
    {
     "data": {
      "image/png": "[encoded data removed]",
      "text/plain": [
       "<IPython.core.display.Image object>"
      ]
     },
     "metadata": {},
     "output_type": "display_data"
    },
    {
     "name": "stdout",
     "output_type": "stream",
     "text": [
      "Epinephelus guttatus sample :\n"
     ]
    },
    {
     "data": {
      "image/png": "[encoded data removed]",
      "text/plain": [
       "<IPython.core.display.Image object>"
      ]
     },
     "metadata": {},
     "output_type": "display_data"
    },
    {
     "name": "stdout",
     "output_type": "stream",
     "text": [
      "Microcerculus marginatus sample :\n"
     ]
    },
    {
     "data": {
      "image/png": "[encoded data removed]",
      "text/plain": [
       "<IPython.core.display.Image object>"
      ]
     },
     "metadata": {},
     "output_type": "display_data"
    },
    {
     "name": "stdout",
     "output_type": "stream",
     "text": [
      "Saltator grossus sample :\n"
     ]
    },
    {
     "data": {
      "image/png": "[encoded data removed]",
      "text/plain": [
       "<IPython.core.display.Image object>"
      ]
     },
     "metadata": {},
     "output_type": "display_data"
    },
    {
     "name": "stdout",
     "output_type": "stream",
     "text": [
      "Liosceles thoracicus sample :\n"
     ]
    },
    {
     "data": {
      "image/png": "[encoded data removed]",
      "text/plain": [
       "<IPython.core.display.Image object>"
      ]
     },
     "metadata": {},
     "output_type": "display_data"
    }
   ],
   "source": [
    "# function for displaying a random photo from each class in a dataset\n",
    "def displaySamples(dataset_folders):\n",
    "    # go through each class in the dataset\n",
    "    dataset = os.listdir(dataset_folders)\n",
    "    for folder in dataset:\n",
    "        imgs_path = dataset_folders + '/' + folder\n",
    "        # list all images in a class\n",
    "        imgs = os.listdir(imgs_path) \n",
    "        # path for a random image from a dataset class\n",
    "        sample = dataset_folders + '/' + folder + '/' + imgs[np.random.randint(len(imgs))] \n",
    "        name = sample.split('/')[-2]\n",
    "        print(name, 'sample :')\n",
    "        disp(Im(sample)) # display our sample\n",
    "\n",
    "print(\"Here's a random sample from each class in the training dataset:\")\n",
    "displaySamples(processed_dataset_path)"
   ]
  },
  {
   "cell_type": "markdown",
   "metadata": {},
   "source": [
    "### Now we'll obtain a list of class folders"
   ]
  },
  {
   "cell_type": "code",
   "execution_count": 23,
   "metadata": {
    "collapsed": true
   },
   "outputs": [],
   "source": [
    "def getDatasetFolders(dataset_path):\n",
    "    folders = os.listdir(dataset_path)\n",
    "    dataset_folders = []\n",
    "    for folder in folders:\n",
    "        dataset_folders.append(dataset_path + '/' + folder)\n",
    "    return dataset_folders\n",
    "\n",
    "dataset_folders = getDatasetFolders(processed_dataset_path)\n",
    "#print(dataset_folders)"
   ]
  },
  {
   "cell_type": "markdown",
   "metadata": {},
   "source": [
    "### Here we'll generate a pickle for each class "
   ]
  },
  {
   "cell_type": "code",
   "execution_count": 24,
   "metadata": {},
   "outputs": [
    {
     "name": "stdout",
     "output_type": "stream",
     "text": [
      "Pickling ../dataset/pickle_data/Eleutherodactylus coqui.pickle.\n",
      "Full dataset tensor: (533, 100, 100)\n",
      "Mean: -0.055746\n",
      "Standard deviation: 0.137546\n",
      "Pickling ../dataset/pickle_data/Myrmoborus leucophrys.pickle.\n",
      "Full dataset tensor: (902, 100, 100)\n",
      "Mean: 0.00332465\n",
      "Standard deviation: 0.148124\n",
      "Pickling ../dataset/pickle_data/Eleutherodactylus cooki.pickle.\n",
      "Full dataset tensor: (656, 100, 100)\n",
      "Mean: -0.00916728\n",
      "Standard deviation: 0.156221\n",
      "Pickling ../dataset/pickle_data/Formicarius analis.pickle.\n",
      "Full dataset tensor: (451, 100, 100)\n",
      "Mean: 0.0036862\n",
      "Standard deviation: 0.154051\n",
      "Pickling ../dataset/pickle_data/Hypocnemis subflava.pickle.\n",
      "Full dataset tensor: (984, 100, 100)\n",
      "Mean: -0.0161838\n",
      "Standard deviation: 0.139691\n",
      "Pickling ../dataset/pickle_data/Thamnophilus schistaceus.pickle.\n",
      "Full dataset tensor: (451, 100, 100)\n",
      "Mean: 0.000563078\n",
      "Standard deviation: 0.15192\n",
      "Pickling ../dataset/pickle_data/Eleutherodactylus cochranae.pickle.\n",
      "Full dataset tensor: (1025, 100, 100)\n",
      "Mean: 0.0252269\n",
      "Standard deviation: 0.213533\n",
      "Pickling ../dataset/pickle_data/Basileuterus chrysogaster.pickle.\n",
      "Full dataset tensor: (205, 100, 100)\n",
      "Mean: 0.00829714\n",
      "Standard deviation: 0.14838\n",
      "Pickling ../dataset/pickle_data/Megascops nudipes.pickle.\n",
      "Full dataset tensor: (615, 100, 100)\n",
      "Mean: 0.0717065\n",
      "Standard deviation: 0.203913\n",
      "Pickling ../dataset/pickle_data/Eleutherodactylus juanariveroi.pickle.\n",
      "Full dataset tensor: (205, 100, 100)\n",
      "Mean: -0.112676\n",
      "Standard deviation: 0.117641\n",
      "Pickling ../dataset/pickle_data/Myrmeciza hemimelaena.pickle.\n",
      "Full dataset tensor: (1886, 100, 100)\n",
      "Mean: -0.0495325\n",
      "Standard deviation: 0.140617\n",
      "Pickling ../dataset/pickle_data/Eleutherodactylus brittoni.pickle.\n",
      "Full dataset tensor: (574, 100, 100)\n",
      "Mean: -0.112157\n",
      "Standard deviation: 0.147839\n",
      "Pickling ../dataset/pickle_data/Chlorothraupis carmioli.pickle.\n",
      "Full dataset tensor: (451, 100, 100)\n",
      "Mean: -0.0148129\n",
      "Standard deviation: 0.136628\n",
      "Pickling ../dataset/pickle_data/Unknown Insect.pickle.\n",
      "Full dataset tensor: (410, 100, 100)\n",
      "Mean: 0.0261253\n",
      "Standard deviation: 0.139446\n",
      "Pickling ../dataset/pickle_data/Percnostola lophotes.pickle.\n",
      "Full dataset tensor: (697, 100, 100)\n",
      "Mean: -0.0381523\n",
      "Standard deviation: 0.13459\n",
      "Pickling ../dataset/pickle_data/Basileuterus bivittatus.pickle.\n",
      "Full dataset tensor: (615, 100, 100)\n",
      "Mean: -0.0409144\n",
      "Standard deviation: 0.134504\n",
      "Pickling ../dataset/pickle_data/Megascops guatemalae.pickle.\n",
      "Full dataset tensor: (246, 100, 100)\n",
      "Mean: 0.0641016\n",
      "Standard deviation: 0.160694\n",
      "Pickling ../dataset/pickle_data/Epinephelus guttatus.pickle.\n",
      "Full dataset tensor: (697, 100, 100)\n",
      "Mean: 0.00407457\n",
      "Standard deviation: 0.16931\n",
      "Pickling ../dataset/pickle_data/Microcerculus marginatus.pickle.\n",
      "Full dataset tensor: (492, 100, 100)\n",
      "Mean: 0.0495922\n",
      "Standard deviation: 0.173259\n",
      "Pickling ../dataset/pickle_data/Saltator grossus.pickle.\n",
      "Full dataset tensor: (410, 100, 100)\n",
      "Mean: 0.00125115\n",
      "Standard deviation: 0.148789\n",
      "Pickling ../dataset/pickle_data/Liosceles thoracicus.pickle.\n",
      "Full dataset tensor: (574, 100, 100)\n",
      "Mean: -0.00138203\n",
      "Standard deviation: 0.158173\n"
     ]
    }
   ],
   "source": [
    "image_size = 100  # Pixel width and height.\n",
    "pixel_depth = 255.0  # Number of levels per pixel.\n",
    "\n",
    "def load_image(folder, min_num_images):\n",
    "    # Load the data for a single species.\n",
    "    image_files = os.listdir(folder)\n",
    "    dataset = np.ndarray(shape=(len(image_files), image_size, image_size), dtype=np.float32)\n",
    "    num_images = 0\n",
    "\n",
    "    for image in image_files:\n",
    "        image_file = os.path.join(folder, image)\n",
    "        try:\n",
    "            image_data = (ndimage.imread(image_file).astype(float) - pixel_depth / 2) / pixel_depth\n",
    "            #print(image_data.shape)\n",
    "            # our images are RGBA so we would expect shape MxNx4\n",
    "            # see: https://docs.scipy.org/doc/scipy-0.14.0/reference/generated/scipy.ndimage.imread.html\n",
    "            if (image_data.shape != (image_size, image_size)):\n",
    "                raise Exception('Unexpected image shape: %s' % str(image_data.shape))\n",
    "            dataset[num_images, :, :] = image_data\n",
    "            num_images = num_images + 1\n",
    "        except IOError as e:\n",
    "            print('Could not read:', image_file, ':', e, '- it\\'s ok, skipping.')\n",
    "\n",
    "    dataset = dataset[0:num_images, :, :]\n",
    "    if num_images < min_num_images:\n",
    "        raise Exception('Many fewer images than expected: %d < %d' % (num_images, min_num_images))\n",
    "\n",
    "    print('Full dataset tensor:', dataset.shape)\n",
    "    print('Mean:', np.mean(dataset))\n",
    "    print('Standard deviation:', np.std(dataset))\n",
    "    return dataset\n",
    "\n",
    "def maybe_pickle(data_folders, min_num_images_per_class, pickles_path, force=False):\n",
    "    \n",
    "    if not os.path.exists(pickles_path):\n",
    "        os.makedirs(pickles_path)\n",
    "    else:\n",
    "        shutil.rmtree(pickles_path)\n",
    "        os.makedirs(pickles_path)\n",
    "  \n",
    "    dataset_names = []\n",
    "    for folder in data_folders:\n",
    "        class_name = folder.split('/')[-1] # species name\n",
    "        set_filename = pickles_path + '/' + class_name + '.pickle'\n",
    "        dataset_names.append(set_filename)\n",
    "        if os.path.exists(set_filename) and not force:\n",
    "            # You may override by setting force=True.\n",
    "            print('%s already present - Skipping pickling.' % set_filename)\n",
    "        else:\n",
    "            print('Pickling %s.' % set_filename)\n",
    "            dataset = load_image(folder, min_num_images_per_class)\n",
    "            try:\n",
    "                with open(set_filename, 'wb') as f:\n",
    "                    pickle.dump(dataset, f, pickle.HIGHEST_PROTOCOL)\n",
    "            except Exception as e:\n",
    "                print('Unable to save data to', set_filename, ':', e)\n",
    "\n",
    "    return dataset_names\n",
    "\n",
    "min_imgs_per_class = 5\n",
    "pickles_path = '../dataset/pickle_data'\n",
    "datasets = maybe_pickle(dataset_folders, min_imgs_per_class, pickles_path)"
   ]
  },
  {
   "cell_type": "markdown",
   "metadata": {},
   "source": [
    "### Now we'll check if our dataset is balanced "
   ]
  },
  {
   "cell_type": "code",
   "execution_count": 25,
   "metadata": {},
   "outputs": [
    {
     "name": "stdout",
     "output_type": "stream",
     "text": [
      "['../dataset/pickle_data/Eleutherodactylus cooki.pickle', '../dataset/pickle_data/Formicarius analis.pickle', '../dataset/pickle_data/Thamnophilus schistaceus.pickle', '../dataset/pickle_data/Myrmeciza hemimelaena.pickle', '../dataset/pickle_data/Myrmoborus leucophrys.pickle', '../dataset/pickle_data/Eleutherodactylus coqui.pickle', '../dataset/pickle_data/Eleutherodactylus juanariveroi.pickle', '../dataset/pickle_data/Percnostola lophotes.pickle', '../dataset/pickle_data/Megascops nudipes.pickle', '../dataset/pickle_data/Hypocnemis subflava.pickle', '../dataset/pickle_data/Basileuterus bivittatus.pickle', '../dataset/pickle_data/Eleutherodactylus brittoni.pickle', '../dataset/pickle_data/Basileuterus chrysogaster.pickle', '../dataset/pickle_data/Eleutherodactylus cochranae.pickle', '../dataset/pickle_data/Unknown Insect.pickle', '../dataset/pickle_data/Megascops guatemalae.pickle', '../dataset/pickle_data/Chlorothraupis carmioli.pickle', '../dataset/pickle_data/Microcerculus marginatus.pickle', '../dataset/pickle_data/Liosceles thoracicus.pickle', '../dataset/pickle_data/Saltator grossus.pickle', '../dataset/pickle_data/Epinephelus guttatus.pickle']\n"
     ]
    }
   ],
   "source": [
    "# let's fetch our pickles\n",
    "pickles = getDatasetFolders('../dataset/pickle_data')\n",
    "print(pickles)"
   ]
  },
  {
   "cell_type": "code",
   "execution_count": 26,
   "metadata": {},
   "outputs": [
    {
     "name": "stdout",
     "output_type": "stream",
     "text": [
      "Let's see if the dataset is balanced:\n",
      "The total number of images in class Eleutherodactylus cooki is: 656\n",
      "The total number of images in class Formicarius analis is: 451\n",
      "The total number of images in class Thamnophilus schistaceus is: 451\n",
      "The total number of images in class Myrmeciza hemimelaena is: 1886\n",
      "The total number of images in class Myrmoborus leucophrys is: 902\n",
      "The total number of images in class Eleutherodactylus coqui is: 533\n",
      "The total number of images in class Eleutherodactylus juanariveroi is: 205\n",
      "The total number of images in class Percnostola lophotes is: 697\n",
      "The total number of images in class Megascops nudipes is: 615\n",
      "The total number of images in class Hypocnemis subflava is: 984\n",
      "The total number of images in class Basileuterus bivittatus is: 615\n",
      "The total number of images in class Eleutherodactylus brittoni is: 574\n",
      "The total number of images in class Basileuterus chrysogaster is: 205\n",
      "The total number of images in class Eleutherodactylus cochranae is: 1025\n",
      "The total number of images in class Unknown Insect is: 410\n",
      "The total number of images in class Megascops guatemalae is: 246\n",
      "The total number of images in class Chlorothraupis carmioli is: 451\n",
      "The total number of images in class Microcerculus marginatus is: 492\n",
      "The total number of images in class Liosceles thoracicus is: 574\n",
      "The total number of images in class Saltator grossus is: 410\n",
      "The total number of images in class Epinephelus guttatus is: 697\n",
      "For the dataset to be balanced, each class should have approximately 622 images.\n",
      "\n"
     ]
    }
   ],
   "source": [
    "def class_is_balanced(pickles):\n",
    "    total = 0\n",
    "    for pckle in pickles:\n",
    "        if (os.path.isfile(pckle)):\n",
    "            pickle_class = pickle.load(open(pckle, \"rb\"))\n",
    "        else:\n",
    "            print(\"Error reading dataset %s. Exiting.\", pickle_path)\n",
    "            return -1\n",
    "        class_name = pckle.split('/')[-1].split('.')[0]\n",
    "        print(\"The total number of images in class %s is: %d\" % (class_name, len(pickle_class)))\n",
    "        total += len(pickle_class)\n",
    "    print(\"For the dataset to be balanced, each class should have approximately %d images.\\n\" % (total / len(pickles)))\n",
    "    return (total // len(pickles))\n",
    "    \n",
    "print(\"Let's see if the dataset is balanced:\")\n",
    "balance_num = class_is_balanced(pickles)"
   ]
  },
  {
   "cell_type": "code",
   "execution_count": 27,
   "metadata": {
    "collapsed": true
   },
   "outputs": [],
   "source": [
    "# may need later, but right now we want to use all classes\n",
    "\n",
    "# def getBalancedClasses(pickle_files, balanced_num):\n",
    "#     pickle_paths = []\n",
    "#     total = 0\n",
    "#     for pckle in pickle_files:\n",
    "#         if (os.path.isfile(pckle)):\n",
    "#             pickle_class = pickle.load(open(pckle, \"rb\"))\n",
    "#         else:\n",
    "#             print(\"Error reading dataset %s. Exiting.\", pickle_path)\n",
    "#             return -1\n",
    "#         if (len(pickle_class) >= balance_num):\n",
    "#             total += len(pickle_class)\n",
    "#             pickle_paths.append(pckle)\n",
    "#     return pickle_paths, total\n",
    "\n",
    "# true_pickles, total_balanced = getBalancedClasses(pickles, balance_num)\n",
    "\n",
    "# print(\"balanced dataset is \", true_pickles)\n",
    "# print(\"Total images are \", total_balanced)"
   ]
  },
  {
   "cell_type": "code",
   "execution_count": 28,
   "metadata": {},
   "outputs": [
    {
     "name": "stdout",
     "output_type": "stream",
     "text": [
      "Largest dataset is Myrmeciza hemimelaena with 1886 images\n"
     ]
    }
   ],
   "source": [
    "def getLargestClass(pickles):\n",
    "    num_images = 0\n",
    "    class_info = []\n",
    "    for index,pckle in enumerate(pickles):\n",
    "        if (os.path.isfile(pckle)):\n",
    "            pickle_class = pickle.load(open(pckle, \"rb\"))\n",
    "        else:\n",
    "            print(\"Error reading dataset %s. Exiting.\", pickle_path)\n",
    "            return -1\n",
    "        class_name = pckle.split('/')[-1].split('.')[0]\n",
    "        if(len(pickle_class) > num_images):\n",
    "            num_images = len(pickle_class)\n",
    "            class_info = [index, class_name, num_images]\n",
    "            \n",
    "    print(\"Largest dataset is {} with {} images\".format(class_info[1], class_info[2]))\n",
    "    return class_info\n",
    "\n",
    "class_info = getLargestClass(pickles)"
   ]
  },
  {
   "cell_type": "markdown",
   "metadata": {},
   "source": [
    "### Choose subset of dataset classes\n",
    "Since our dataset is not balanced and we want to test all classes we'll choose the smallest  \n",
    "one and pick the same amount from the other classes"
   ]
  },
  {
   "cell_type": "code",
   "execution_count": 29,
   "metadata": {
    "collapsed": true
   },
   "outputs": [],
   "source": [
    "# try: let's see if with our new augmented dataset we can choose the smallest classt\n",
    "# and choose that amount of images from the other classes \n",
    "# you can find the min number of images with a trivial function like this:\n",
    "\n",
    "def findMinClass(dataset_path):\n",
    "    minm = float('inf')\n",
    "    species = ''\n",
    "    for folder in dataset_folders:\n",
    "        images= os.listdir(folder)\n",
    "        count = len(images)\n",
    "        if (count < minm): \n",
    "            minm = count\n",
    "            species = folder.split('/')[-1]\n",
    "\n",
    "    return (species, minm)"
   ]
  },
  {
   "cell_type": "code",
   "execution_count": 30,
   "metadata": {},
   "outputs": [
    {
     "name": "stdout",
     "output_type": "stream",
     "text": [
      "('Basileuterus chrysogaster', 205)\n"
     ]
    }
   ],
   "source": [
    "min_class = findMinClass(dataset_folders)\n",
    "print(min_class)"
   ]
  },
  {
   "cell_type": "code",
   "execution_count": 31,
   "metadata": {
    "collapsed": true
   },
   "outputs": [],
   "source": [
    "# go through our pickles, load them, shuffle them, and choose class_size amount of the images\n",
    "def makeSubClasses(class_size, pickle_path, pickle_files):\n",
    "    \n",
    "    # create path for folder of pickles of subsets of classes\n",
    "    if not os.path.exists(pickle_path):\n",
    "        os.makedirs(pickle_path)\n",
    "    else:\n",
    "        shutil.rmtree(pickle_path)\n",
    "        os.makedirs(pickle_path)\n",
    "    \n",
    "    # list of pickles of subsets of classes\n",
    "    subclasses = []\n",
    "    \n",
    "    for pickle_file in pickle_files:\n",
    "        try:\n",
    "            with open(pickle_file, 'rb') as f:\n",
    "                name = pickle_path + pickle_file.split('/')[-1].split('.')[0] + '_subset.pickle'\n",
    "                species_set = pickle.load(f) # set of images from species\n",
    "                # let's shuffle the letters to have random subset\n",
    "                np.random.shuffle(species_set)\n",
    "                species_set = species_set[:class_size,:,:]\n",
    "                try:\n",
    "                    with open(name, 'wb') as f:\n",
    "                        pickle.dump(species_set, f, pickle.HIGHEST_PROTOCOL)\n",
    "                        subclasses.append(name)\n",
    "                except Exception as e:\n",
    "                    print('Unable to save data to', name, ':', e)\n",
    "        except Exception as e:\n",
    "            print('Unable to process data from', pickle_file, ':', e)\n",
    "            pass\n",
    "    return subclasses"
   ]
  },
  {
   "cell_type": "code",
   "execution_count": 32,
   "metadata": {
    "collapsed": true
   },
   "outputs": [],
   "source": [
    "pickle_sublasses = makeSubClasses(min_class[1], '../dataset/subclasess_pickle_data/', pickles)\n",
    "#print(pickle_sublasses)"
   ]
  },
  {
   "cell_type": "markdown",
   "metadata": {},
   "source": [
    "### Create datasets"
   ]
  },
  {
   "cell_type": "code",
   "execution_count": 33,
   "metadata": {},
   "outputs": [
    {
     "name": "stdout",
     "output_type": "stream",
     "text": [
      "We have a total of 4305.\n",
      "We'll split them 50/20/30 for training, validation, and testing respectively.\n",
      "Training dataset size: 2152\n",
      "Validation dataset size: 861\n",
      "Testing dataset size: 1291\n"
     ]
    }
   ],
   "source": [
    "# our dataset is now balanced. calculate our training, validation, and test dataset sizes\n",
    "total_images = len(pickle_sublasses) * min_class[1]\n",
    "print(f\"We have a total of {total_images}.\")\n",
    "print(\"We'll split them 50/20/30 for training, validation, and testing respectively.\")\n",
    "print(f\"Training dataset size: {int(total_images*0.5)}\")\n",
    "print(f\"Validation dataset size: {int(total_images*0.2)}\")\n",
    "print(f\"Testing dataset size: {int(total_images*0.3)}\")"
   ]
  },
  {
   "cell_type": "code",
   "execution_count": 34,
   "metadata": {
    "collapsed": true
   },
   "outputs": [],
   "source": [
    "def make_arrays(nb_rows, img_size):\n",
    "    if nb_rows:\n",
    "        dataset = np.ndarray((nb_rows, img_size, img_size), dtype=np.float32)\n",
    "        labels = np.ndarray(nb_rows, dtype=np.int32)\n",
    "    else:\n",
    "        dataset, labels = None, None\n",
    "    return dataset, labels\n",
    "\n",
    "def merge_datasets_all(pickle_files, train_size, valid_size, test_size): # valid_size is 0 if not given as argument. \n",
    "    num_classes = len(pickle_files)\n",
    "    valid_dataset, valid_labels = make_arrays(valid_size, image_size)\n",
    "    train_dataset, train_labels = make_arrays(train_size, image_size)\n",
    "    test_dataset, test_labels = make_arrays(test_size, image_size)\n",
    "\n",
    "    vsize_per_class = valid_size // num_classes\n",
    "    tsize_per_class = train_size // num_classes\n",
    "    tesize_per_class = test_size // num_classes\n",
    "    \n",
    "    start_v, start_t, start_te = 0, 0, 0\n",
    "    end_v, end_t, end_te= vsize_per_class, tsize_per_class, tesize_per_class\n",
    "    end_l = vsize_per_class + tsize_per_class\n",
    "    end_tst = end_l + tesize_per_class\n",
    "    \n",
    "\n",
    "    for label, pickle_file in enumerate(pickle_files):\n",
    "        #print(start_v, end_v)\n",
    "        #print(start_t, end_v)\n",
    "        name = (pickle_file.split('/')[-1]).split('.')[0]\n",
    "        try:\n",
    "            with open(pickle_file, 'rb') as f:\n",
    "                species_set = pickle.load(f) # set of images from species\n",
    "                # let's shuffle the letters to have random validation and training set\n",
    "                np.random.shuffle(species_set) # shuffle the data (the \"images\") in the pickle around \n",
    "                \n",
    "\n",
    "                #print(\"Valid dataset with\", name, \". Has \", len(species_set), \" images.\")\n",
    "                #print(\"Needs %d images per class\" % vsize_per_class)\n",
    "                #print(\"valid_species is species_set[:%d,:,:]\" % vsize_per_class)\n",
    "                valid_species = species_set[:vsize_per_class, :, :]\n",
    "                #print(\"valid_dataset[%d:%d,:,:] = valid_species\" % (start_v,end_v))\n",
    "                valid_dataset[start_v:end_v, :, :] = valid_species\n",
    "                #print(\"valid_labels[%d:%d] = %d\" % (start_v,end_v,label))\n",
    "                valid_labels[start_v:end_v] = label\n",
    "                start_v += vsize_per_class\n",
    "                end_v += vsize_per_class\n",
    "\n",
    "\n",
    "                #print(\"Train dataset with\", name, \". Has \", len(species_set), \" images\")\n",
    "                #print(\"Needs %d images per class\" % tsize_per_class)\n",
    "                #print(\"train_species is species_set[%d:%d,:,:]\" % (vsize_per_class,end_l))\n",
    "                train_species = species_set[vsize_per_class:end_l, :, :]\n",
    "                #print(\"train_dataset[%d:%d,:,:] = train_species\" % (start_t,end_t))\n",
    "                train_dataset[start_t:end_t, :, :] = train_species\n",
    "                #print(\"train_labels[%d:%d] = %d\" % (start_t,end_t,label))\n",
    "                train_labels[start_t:end_t] = label # give label to all images in class    \n",
    "                start_t += tsize_per_class # offset start of class for next iteration \n",
    "                end_t += tsize_per_class # offset end of class for next iteration\n",
    "                \n",
    "                #print(\"Test dataset with\", name, \". Has \", len(species_set), \" images\")\n",
    "                #print(\"Needs %d images per class\" % tesize_per_class)\n",
    "                #print(\"test_species is species_set[%d:%d,:,:]\" % (end_l, end_te))\n",
    "                test_species = species_set[end_l:end_tst, :, :]\n",
    "                #print(\"test_dataset[%d:%d,:,:] = test_species\" % (start_te,end_te))\n",
    "                test_dataset[start_te:end_te, :, :] = test_species\n",
    "                #print(\"test_labels[%d:%d] = %d\" % (start_te,end_te,label))\n",
    "                test_labels[start_te:end_te] = label # give label to all images in class\n",
    "                start_te += tesize_per_class # offset start of class for next iteration \n",
    "                end_te += tesize_per_class # offset end of class for next iteration\n",
    "                \n",
    "        except Exception as e:\n",
    "            print('Unable to process data from', pickle_file, ':', e)\n",
    "            pass\n",
    "    \n",
    "    return valid_dataset, valid_labels, train_dataset, train_labels, test_dataset, test_labels"
   ]
  },
  {
   "cell_type": "code",
   "execution_count": 35,
   "metadata": {
    "collapsed": true
   },
   "outputs": [],
   "source": [
    "train_size = int(total_images * 0.5)\n",
    "valid_size = int(total_images * 0.2)\n",
    "test_size = int(total_images * 0.3)\n",
    "valid_dataset, valid_labels, train_dataset, train_labels, test_dataset, test_labels = merge_datasets_all(pickle_sublasses, train_size, valid_size, test_size)\n",
    "#print(train_dataset.shape)"
   ]
  },
  {
   "cell_type": "code",
   "execution_count": 36,
   "metadata": {
    "collapsed": true
   },
   "outputs": [],
   "source": [
    "def genLabelMap(pickle_files):\n",
    "    label_map = {}\n",
    "    for label, pickle_file in enumerate(pickle_files):\n",
    "        name = (pickle_file.split('/')[-1]).split('.')[0]\n",
    "        label_map[label] = name\n",
    "    return label_map\n",
    "\n",
    "def sampleCheck(dataset, labels, label_map):\n",
    "    i = random.randint(1, 5)\n",
    "    for p_i, img in enumerate(random.sample(range(len(labels)), 5*i)):\n",
    "        plt.subplot(i, 5, p_i+1)\n",
    "        plt.axis('off')\n",
    "        label = labels[img]\n",
    "        species = label_map[label]\n",
    "        #print(species)\n",
    "        title =  species + ' sample:'\n",
    "        plt.title(title)\n",
    "        plt.imshow(dataset[img])\n",
    "        plt.show()"
   ]
  },
  {
   "cell_type": "code",
   "execution_count": 37,
   "metadata": {},
   "outputs": [
    {
     "data": {
      "image/png": "[encoded data removed]",
      "text/plain": [
       "<matplotlib.figure.Figure at 0x10ab3ba58>"
      ]
     },
     "metadata": {},
     "output_type": "display_data"
    },
    {
     "data": {
      "image/png": "[encoded data removed]",
      "text/plain": [
       "<matplotlib.figure.Figure at 0x115b87668>"
      ]
     },
     "metadata": {},
     "output_type": "display_data"
    },
    {
     "data": {
      "image/png": "[encoded data removed]",
      "text/plain": [
       "<matplotlib.figure.Figure at 0x1157dc3c8>"
      ]
     },
     "metadata": {},
     "output_type": "display_data"
    },
    {
     "data": {
      "image/png": "[encoded data removed]",
      "text/plain": [
       "<matplotlib.figure.Figure at 0x115b53198>"
      ]
     },
     "metadata": {},
     "output_type": "display_data"
    },
    {
     "data": {
      "image/png": "[encoded data removed]",
      "text/plain": [
       "<matplotlib.figure.Figure at 0x1159c0748>"
      ]
     },
     "metadata": {},
     "output_type": "display_data"
    },
    {
     "data": {
      "image/png": "[encoded data removed]",
      "text/plain": [
       "<matplotlib.figure.Figure at 0x115aac518>"
      ]
     },
     "metadata": {},
     "output_type": "display_data"
    },
    {
     "data": {
      "image/png": "[encoded data removed]",
      "text/plain": [
       "<matplotlib.figure.Figure at 0x1157c8fd0>"
      ]
     },
     "metadata": {},
     "output_type": "display_data"
    },
    {
     "data": {
      "image/png": "[encoded data removed]",
      "text/plain": [
       "<matplotlib.figure.Figure at 0x1174640f0>"
      ]
     },
     "metadata": {},
     "output_type": "display_data"
    },
    {
     "data": {
      "image/png": "[encoded data removed]",
      "text/plain": [
       "<matplotlib.figure.Figure at 0x11754c3c8>"
      ]
     },
     "metadata": {},
     "output_type": "display_data"
    },
    {
     "data": {
      "image/png": "[encoded data removed]",
      "text/plain": [
       "<matplotlib.figure.Figure at 0x1176544e0>"
      ]
     },
     "metadata": {},
     "output_type": "display_data"
    },
    {
     "data": {
      "image/png": "[encoded data removed]",
      "text/plain": [
       "<matplotlib.figure.Figure at 0x115901be0>"
      ]
     },
     "metadata": {},
     "output_type": "display_data"
    },
    {
     "data": {
      "image/png": "[encoded data removed]",
      "text/plain": [
       "<matplotlib.figure.Figure at 0x11583b8d0>"
      ]
     },
     "metadata": {},
     "output_type": "display_data"
    },
    {
     "data": {
      "image/png": "[encoded data removed]",
      "text/plain": [
       "<matplotlib.figure.Figure at 0x117929630>"
      ]
     },
     "metadata": {},
     "output_type": "display_data"
    },
    {
     "data": {
      "image/png": "[encoded data removed]",
      "text/plain": [
       "<matplotlib.figure.Figure at 0x11794ce10>"
      ]
     },
     "metadata": {},
     "output_type": "display_data"
    },
    {
     "data": {
      "image/png": "[encoded data removed]",
      "text/plain": [
       "<matplotlib.figure.Figure at 0x117a7c5c0>"
      ]
     },
     "metadata": {},
     "output_type": "display_data"
    },
    {
     "data": {
      "image/png": "[encoded data removed]",
      "text/plain": [
       "<matplotlib.figure.Figure at 0x117be9198>"
      ]
     },
     "metadata": {},
     "output_type": "display_data"
    },
    {
     "data": {
      "image/png": "[encoded data removed]",
      "text/plain": [
       "<matplotlib.figure.Figure at 0x117cea4e0>"
      ]
     },
     "metadata": {},
     "output_type": "display_data"
    },
    {
     "data": {
      "image/png": "[encoded data removed]",
      "text/plain": [
       "<matplotlib.figure.Figure at 0x117bd99e8>"
      ]
     },
     "metadata": {},
     "output_type": "display_data"
    },
    {
     "data": {
      "image/png": "[encoded data removed]",
      "text/plain": [
       "<matplotlib.figure.Figure at 0x117ec4588>"
      ]
     },
     "metadata": {},
     "output_type": "display_data"
    },
    {
     "data": {
      "image/png": "[encoded data removed]",
      "text/plain": [
       "<matplotlib.figure.Figure at 0x117fbc748>"
      ]
     },
     "metadata": {},
     "output_type": "display_data"
    },
    {
     "data": {
      "image/png": "[encoded data removed]",
      "text/plain": [
       "<matplotlib.figure.Figure at 0x118026f60>"
      ]
     },
     "metadata": {},
     "output_type": "display_data"
    },
    {
     "data": {
      "image/png": "[encoded data removed]",
      "text/plain": [
       "<matplotlib.figure.Figure at 0x1181101d0>"
      ]
     },
     "metadata": {},
     "output_type": "display_data"
    },
    {
     "data": {
      "image/png": "[encoded data removed]",
      "text/plain": [
       "<matplotlib.figure.Figure at 0x118b5b208>"
      ]
     },
     "metadata": {},
     "output_type": "display_data"
    },
    {
     "data": {
      "image/png": "[encoded data removed]",
      "text/plain": [
       "<matplotlib.figure.Figure at 0x118c594e0>"
      ]
     },
     "metadata": {},
     "output_type": "display_data"
    },
    {
     "data": {
      "image/png": "[encoded data removed]",
      "text/plain": [
       "<matplotlib.figure.Figure at 0x118d446a0>"
      ]
     },
     "metadata": {},
     "output_type": "display_data"
    }
   ],
   "source": [
    "label_map = genLabelMap(pickle_sublasses)\n",
    "sampleCheck(train_dataset, train_labels,label_map)"
   ]
  },
  {
   "cell_type": "code",
   "execution_count": 38,
   "metadata": {},
   "outputs": [
    {
     "data": {
      "image/png": "[encoded data removed]",
      "text/plain": [
       "<matplotlib.figure.Figure at 0x115b8a160>"
      ]
     },
     "metadata": {},
     "output_type": "display_data"
    },
    {
     "data": {
      "image/png": "[encoded data removed]",
      "text/plain": [
       "<matplotlib.figure.Figure at 0x1180eb5c0>"
      ]
     },
     "metadata": {},
     "output_type": "display_data"
    },
    {
     "data": {
      "image/png": "[encoded data removed]",
      "text/plain": [
       "<matplotlib.figure.Figure at 0x118e969b0>"
      ]
     },
     "metadata": {},
     "output_type": "display_data"
    },
    {
     "data": {
      "image/png": "[encoded data removed]",
      "text/plain": [
       "<matplotlib.figure.Figure at 0x1190fd5c0>"
      ]
     },
     "metadata": {},
     "output_type": "display_data"
    },
    {
     "data": {
      "image/png": "[encoded data removed]",
      "text/plain": [
       "<matplotlib.figure.Figure at 0x1191ef0f0>"
      ]
     },
     "metadata": {},
     "output_type": "display_data"
    },
    {
     "data": {
      "image/png": "[encoded data removed]",
      "text/plain": [
       "<matplotlib.figure.Figure at 0x1192ef4e0>"
      ]
     },
     "metadata": {},
     "output_type": "display_data"
    },
    {
     "data": {
      "image/png": "[encoded data removed]",
      "text/plain": [
       "<matplotlib.figure.Figure at 0x1192472e8>"
      ]
     },
     "metadata": {},
     "output_type": "display_data"
    },
    {
     "data": {
      "image/png": "[encoded data removed]",
      "text/plain": [
       "<matplotlib.figure.Figure at 0x119439940>"
      ]
     },
     "metadata": {},
     "output_type": "display_data"
    },
    {
     "data": {
      "image/png": "[encoded data removed]",
      "text/plain": [
       "<matplotlib.figure.Figure at 0x11a711748>"
      ]
     },
     "metadata": {},
     "output_type": "display_data"
    },
    {
     "data": {
      "image/png": "[encoded data removed]",
      "text/plain": [
       "<matplotlib.figure.Figure at 0x11a77cf60>"
      ]
     },
     "metadata": {},
     "output_type": "display_data"
    },
    {
     "data": {
      "image/png": "[encoded data removed]",
      "text/plain": [
       "<matplotlib.figure.Figure at 0x11d62e1d0>"
      ]
     },
     "metadata": {},
     "output_type": "display_data"
    },
    {
     "data": {
      "image/png": "[encoded data removed]",
      "text/plain": [
       "<matplotlib.figure.Figure at 0x124516208>"
      ]
     },
     "metadata": {},
     "output_type": "display_data"
    },
    {
     "data": {
      "image/png": "[encoded data removed]",
      "text/plain": [
       "<matplotlib.figure.Figure at 0x1246184e0>"
      ]
     },
     "metadata": {},
     "output_type": "display_data"
    },
    {
     "data": {
      "image/png": "[encoded data removed]",
      "text/plain": [
       "<matplotlib.figure.Figure at 0x1247016a0>"
      ]
     },
     "metadata": {},
     "output_type": "display_data"
    },
    {
     "data": {
      "image/png": "[encoded data removed]",
      "text/plain": [
       "<matplotlib.figure.Figure at 0x12476a978>"
      ]
     },
     "metadata": {},
     "output_type": "display_data"
    },
    {
     "data": {
      "image/png": "[encoded data removed]",
      "text/plain": [
       "<matplotlib.figure.Figure at 0x1248eb6a0>"
      ]
     },
     "metadata": {},
     "output_type": "display_data"
    },
    {
     "data": {
      "image/png": "[encoded data removed]",
      "text/plain": [
       "<matplotlib.figure.Figure at 0x1249567b8>"
      ]
     },
     "metadata": {},
     "output_type": "display_data"
    },
    {
     "data": {
      "image/png": "[encoded data removed]",
      "text/plain": [
       "<matplotlib.figure.Figure at 0x124ac3f60>"
      ]
     },
     "metadata": {},
     "output_type": "display_data"
    },
    {
     "data": {
      "image/png": "[encoded data removed]",
      "text/plain": [
       "<matplotlib.figure.Figure at 0x124bab470>"
      ]
     },
     "metadata": {},
     "output_type": "display_data"
    },
    {
     "data": {
      "image/png": "[encoded data removed]",
      "text/plain": [
       "<matplotlib.figure.Figure at 0x124ca0240>"
      ]
     },
     "metadata": {},
     "output_type": "display_data"
    }
   ],
   "source": [
    "sampleCheck(valid_dataset, valid_labels, label_map)"
   ]
  },
  {
   "cell_type": "code",
   "execution_count": 85,
   "metadata": {},
   "outputs": [],
   "source": [
    "#pickle_file = '../dataset/arbimonBalanced.pickle'\n",
    "\n",
    "def saveDataset(pickle_file, train_dataset, train_labels, valid_dataset, valid_labels, test_dataset, test_labels):\n",
    "    try:\n",
    "        f = open(pickle_file, 'wb')\n",
    "        \n",
    "        save = {\n",
    "            'train_dataset': train_dataset,\n",
    "            'train_labels': train_labels,\n",
    "            'valid_dataset': valid_dataset,\n",
    "            'valid_labels': valid_labels,\n",
    "            'test_dataset': test_dataset,\n",
    "            'test_labels': test_labels,\n",
    "        } \n",
    "        trD = {0:0,1:0}\n",
    "        for i in train_labels:\n",
    "            if(i == 0):\n",
    "                trD[0] += 1\n",
    "            elif(i == 1):\n",
    "                trD[1] += 1\n",
    "        \n",
    "        print(\"0 label num: \", trD[0])\n",
    "        print(\"1 label num: \", trD[1])\n",
    "        if (trD[0] == trD[1]):\n",
    "            print(f\"{pickle_file} training dataset is balanced\")\n",
    "        else:\n",
    "            print(f\"{pickle_file} training dataset is NOT balanced\")\n",
    "        \n",
    "        v = {0:0,1:0}\n",
    "        for i in valid_labels:\n",
    "            if(i == 0):\n",
    "                v[0] += 1\n",
    "            elif(i == 1):\n",
    "                v[1] += 1\n",
    "        \n",
    "        print(\"0 label num: \", v[0])\n",
    "        print(\"1 label num: \", v[1])\n",
    "        if (v[0] == v[1]):\n",
    "            print(f\"{pickle_file} valid dataset is balanced\")\n",
    "        else:\n",
    "            print(f\"{pickle_file} valid dataset is NOT balanced\")\n",
    "            \n",
    "        teD = {0:0,1:0}\n",
    "        for i in test_labels:\n",
    "            if(i == 0):\n",
    "                teD[0] += 1\n",
    "            elif(i == 1):\n",
    "                teD[1] += 1\n",
    "        \n",
    "        print(\"0 label num: \", teD[0])\n",
    "        print(\"1 label num: \", teD[1])\n",
    "        if (teD[0] == teD[1]):\n",
    "            print(f\"{pickle_file} test dataset is balanced\")\n",
    "        else:\n",
    "            print(f\"{pickle_file} test dataset is NOT balanced\")\n",
    "            \n",
    "        pickle.dump(save, f, pickle.HIGHEST_PROTOCOL) # save all out datasets in one pickle \n",
    "        f.close()\n",
    "    except Exception as e:\n",
    "        print('Unable to save data to', pickle_file, ':', e)\n",
    "        raise"
   ]
  },
  {
   "cell_type": "code",
   "execution_count": 81,
   "metadata": {
    "collapsed": true
   },
   "outputs": [],
   "source": [
    "#saveDataset('../dataset/arbimonBalanced.pickle', train_dataset, train_labels, valid_dataset, valid_labels, test_dataset, test_labels)"
   ]
  },
  {
   "cell_type": "code",
   "execution_count": 82,
   "metadata": {},
   "outputs": [],
   "source": [
    "# since our current NN uses softmax function for assignment of labels\n",
    "# for it's output we're trying out binary classification: x species or not x\n",
    "\n",
    "def binaryPickles(bin_pickle_path, pickles, size):\n",
    "    \n",
    "    # the folders where our pickles will be stored\n",
    "    bin_pickles_folders = []\n",
    "    \n",
    "    # a dictionary mapping a species to the total size of it's binary dataset\n",
    "    class_size_total = {}\n",
    "    \n",
    "    # create the dir where our dirs of bin pickles will be stored\n",
    "    if (not os.path.exists(bin_pickle_path)):\n",
    "        os.makedirs(bin_pickle_path)\n",
    "    else:\n",
    "        shutil.rmtree(bin_pickle_path)\n",
    "        os.makedirs(bin_pickle_path)\n",
    "    \n",
    "    # go through all our pickles and create 2 pickles:\n",
    "    # one of the current species and another with equal length of shuffled images\n",
    "    # from the rest of the species\n",
    "    for pickle_file in pickles:\n",
    "        name = '/bin_' + pickle_file.split('/')[-1].split('.')[0] + '_pickles'\n",
    "        \n",
    "        try:\n",
    "            with open(pickle_file, 'rb') as f:\n",
    "                pickle_data = pickle.load(f)\n",
    "                f.close()\n",
    "                \n",
    "        except Exception as e:\n",
    "            print('Unable to process data from', pickle_file, ':', e)\n",
    "            raise\n",
    "        \n",
    "        if not os.path.exists(bin_pickle_path + name):\n",
    "            os.makedirs(bin_pickle_path + name)\n",
    "        else:\n",
    "            shutil.rmtree(bin_pickle_path + name)\n",
    "            os.makedirs(bin_pickle_path + name)\n",
    "        \n",
    "        rest = np.ndarray(shape=(1,size,size), dtype=float)\n",
    "        \n",
    "        for other in pickles:\n",
    "            \n",
    "            if (other == pickle_file):\n",
    "                pass\n",
    "            try:\n",
    "                with open(other, 'rb') as f:\n",
    "                    spec = pickle.load(f)\n",
    "                    f.close()\n",
    "                    try:\n",
    "                        rest = np.concatenate((rest, spec))\n",
    "                    except Exception as e:\n",
    "                        print(f\"Unable to merge pickle {other} with the rest: {e}\")\n",
    "                        raise\n",
    "            except Exception as e:\n",
    "                print('Unable to process data from', pickle_file, ':', e)\n",
    "                raise\n",
    "        # skip the first fake image, shuffle our images, then choose \n",
    "        # the same amount as our species pickle\n",
    "        rest = rest[1:,:,:]\n",
    "        np.random.shuffle(rest)\n",
    "        rest = rest[:len(pickle_data),:,:]\n",
    "        \n",
    "        pickle_name = pickle_file.split('/')[-1]\n",
    "        \n",
    "        species_filename = bin_pickle_path + name + '/' + pickle_name\n",
    "        rest_filename = bin_pickle_path + name + '/not_' + pickle_name\n",
    "        \n",
    "        print(f\"Species pickle has shape {pickle_data.shape}\")\n",
    "        print(f\"Rest pickle has shape {rest.shape}\")\n",
    "        \n",
    "        try:\n",
    "            with open(species_filename, 'wb') as f:\n",
    "                pickle.dump(pickle_data, f, pickle.HIGHEST_PROTOCOL)\n",
    "                f.close()\n",
    "        except Exception as e:\n",
    "            print('Unable to save data to', set_filename, ':', e)\n",
    "        \n",
    "        try:\n",
    "            with open(rest_filename, 'wb') as g:\n",
    "                pickle.dump(rest, g, pickle.HIGHEST_PROTOCOL)\n",
    "                g.close()\n",
    "        except Exception as e:\n",
    "            print('Unable to save data to', set_filename, ':', e)\n",
    "        \n",
    "        class_size_total[pickle_file.split('/')[-1].split('.')[0]] = len(pickle_data)*2\n",
    "        bin_pickles_folders.append(bin_pickle_path + name)\n",
    "    \n",
    "    return class_size_total, bin_pickles_folders"
   ]
  },
  {
   "cell_type": "code",
   "execution_count": 54,
   "metadata": {},
   "outputs": [
    {
     "name": "stdout",
     "output_type": "stream",
     "text": [
      "Species pickle has shape (656, 100, 100)\n",
      "Rest pickle has shape (656, 100, 100)\n",
      "Species pickle has shape (451, 100, 100)\n",
      "Rest pickle has shape (451, 100, 100)\n",
      "Species pickle has shape (451, 100, 100)\n",
      "Rest pickle has shape (451, 100, 100)\n",
      "Species pickle has shape (1886, 100, 100)\n",
      "Rest pickle has shape (1886, 100, 100)\n",
      "Species pickle has shape (902, 100, 100)\n",
      "Rest pickle has shape (902, 100, 100)\n",
      "Species pickle has shape (533, 100, 100)\n",
      "Rest pickle has shape (533, 100, 100)\n",
      "Species pickle has shape (205, 100, 100)\n",
      "Rest pickle has shape (205, 100, 100)\n",
      "Species pickle has shape (697, 100, 100)\n",
      "Rest pickle has shape (697, 100, 100)\n",
      "Species pickle has shape (615, 100, 100)\n",
      "Rest pickle has shape (615, 100, 100)\n",
      "Species pickle has shape (984, 100, 100)\n",
      "Rest pickle has shape (984, 100, 100)\n",
      "Species pickle has shape (615, 100, 100)\n",
      "Rest pickle has shape (615, 100, 100)\n",
      "Species pickle has shape (574, 100, 100)\n",
      "Rest pickle has shape (574, 100, 100)\n",
      "Species pickle has shape (205, 100, 100)\n",
      "Rest pickle has shape (205, 100, 100)\n",
      "Species pickle has shape (1025, 100, 100)\n",
      "Rest pickle has shape (1025, 100, 100)\n",
      "Species pickle has shape (410, 100, 100)\n",
      "Rest pickle has shape (410, 100, 100)\n",
      "Species pickle has shape (246, 100, 100)\n",
      "Rest pickle has shape (246, 100, 100)\n",
      "Species pickle has shape (451, 100, 100)\n",
      "Rest pickle has shape (451, 100, 100)\n",
      "Species pickle has shape (492, 100, 100)\n",
      "Rest pickle has shape (492, 100, 100)\n",
      "Species pickle has shape (574, 100, 100)\n",
      "Rest pickle has shape (574, 100, 100)\n",
      "Species pickle has shape (410, 100, 100)\n",
      "Rest pickle has shape (410, 100, 100)\n",
      "Species pickle has shape (697, 100, 100)\n",
      "Rest pickle has shape (697, 100, 100)\n"
     ]
    }
   ],
   "source": [
    "sizes, bin_folders = binaryPickles('../dataset/binary_pickles', pickles, 100)"
   ]
  },
  {
   "cell_type": "code",
   "execution_count": 83,
   "metadata": {
    "collapsed": true
   },
   "outputs": [],
   "source": [
    "def genBinDatasets(bin_pickle_path, sizes, dataset_path):\n",
    "    \n",
    "    if (not os.path.exists(dataset_path)):\n",
    "        os.makedirs(dataset_path)\n",
    "    else:\n",
    "        shutil.rmtree(dataset_path)\n",
    "        os.makedirs(dataset_path)\n",
    "    \n",
    "    for bin_pickles in bin_pickle_path:\n",
    "        pickles = os.listdir(bin_pickles)\n",
    "        for i in range(len(pickles)):\n",
    "            pickles[i] = bin_pickles + '/' + pickles[i]\n",
    "        name = bin_pickles.split('/')[-1].split('_')[-2]\n",
    "        total_images = sizes[name]\n",
    "        \n",
    "        train_size = int(total_images * 0.5)\n",
    "        valid_size = int(total_images * 0.2)\n",
    "        test_size = int(total_images * 0.3)\n",
    "        \n",
    "        valid_dataset, valid_labels, train_dataset, train_labels, test_dataset, test_labels = \\\n",
    "        merge_datasets_all(pickles, train_size, valid_size, test_size)\n",
    "        \n",
    "        dataset_file = dataset_path + '/arbimon_bin_' + name + '.pickle'\n",
    "        \n",
    "        saveDataset(dataset_file, train_dataset, train_labels, valid_dataset, valid_labels, test_dataset, test_labels)"
   ]
  },
  {
   "cell_type": "code",
   "execution_count": 86,
   "metadata": {},
   "outputs": [
    {
     "name": "stdout",
     "output_type": "stream",
     "text": [
      "0 label num:  328\n",
      "1 label num:  328\n",
      "../dataset/arbimon_bin_datasets/arbimon_bin_Eleutherodactylus cooki.pickle training dataset is balanced\n",
      "0 label num:  131\n",
      "1 label num:  131\n",
      "../dataset/arbimon_bin_datasets/arbimon_bin_Eleutherodactylus cooki.pickle valid dataset is balanced\n",
      "0 label num:  196\n",
      "1 label num:  196\n",
      "../dataset/arbimon_bin_datasets/arbimon_bin_Eleutherodactylus cooki.pickle test dataset is balanced\n",
      "0 label num:  225\n",
      "1 label num:  225\n",
      "../dataset/arbimon_bin_datasets/arbimon_bin_Formicarius analis.pickle training dataset is balanced\n",
      "0 label num:  90\n",
      "1 label num:  90\n",
      "../dataset/arbimon_bin_datasets/arbimon_bin_Formicarius analis.pickle valid dataset is balanced\n",
      "0 label num:  135\n",
      "1 label num:  135\n",
      "../dataset/arbimon_bin_datasets/arbimon_bin_Formicarius analis.pickle test dataset is balanced\n",
      "0 label num:  226\n",
      "1 label num:  225\n",
      "../dataset/arbimon_bin_datasets/arbimon_bin_Thamnophilus schistaceus.pickle training dataset is NOT balanced\n",
      "0 label num:  90\n",
      "1 label num:  90\n",
      "../dataset/arbimon_bin_datasets/arbimon_bin_Thamnophilus schistaceus.pickle valid dataset is balanced\n",
      "0 label num:  135\n",
      "1 label num:  135\n",
      "../dataset/arbimon_bin_datasets/arbimon_bin_Thamnophilus schistaceus.pickle test dataset is balanced\n",
      "0 label num:  943\n",
      "1 label num:  943\n",
      "../dataset/arbimon_bin_datasets/arbimon_bin_Myrmeciza hemimelaena.pickle training dataset is balanced\n",
      "0 label num:  377\n",
      "1 label num:  377\n",
      "../dataset/arbimon_bin_datasets/arbimon_bin_Myrmeciza hemimelaena.pickle valid dataset is balanced\n",
      "0 label num:  565\n",
      "1 label num:  565\n",
      "../dataset/arbimon_bin_datasets/arbimon_bin_Myrmeciza hemimelaena.pickle test dataset is balanced\n",
      "0 label num:  451\n",
      "1 label num:  451\n",
      "../dataset/arbimon_bin_datasets/arbimon_bin_Myrmoborus leucophrys.pickle training dataset is balanced\n",
      "0 label num:  180\n",
      "1 label num:  180\n",
      "../dataset/arbimon_bin_datasets/arbimon_bin_Myrmoborus leucophrys.pickle valid dataset is balanced\n",
      "0 label num:  270\n",
      "1 label num:  270\n",
      "../dataset/arbimon_bin_datasets/arbimon_bin_Myrmoborus leucophrys.pickle test dataset is balanced\n",
      "0 label num:  266\n",
      "1 label num:  266\n",
      "../dataset/arbimon_bin_datasets/arbimon_bin_Eleutherodactylus coqui.pickle training dataset is balanced\n",
      "0 label num:  106\n",
      "1 label num:  106\n",
      "../dataset/arbimon_bin_datasets/arbimon_bin_Eleutherodactylus coqui.pickle valid dataset is balanced\n",
      "0 label num:  159\n",
      "1 label num:  159\n",
      "../dataset/arbimon_bin_datasets/arbimon_bin_Eleutherodactylus coqui.pickle test dataset is balanced\n",
      "0 label num:  102\n",
      "1 label num:  102\n",
      "../dataset/arbimon_bin_datasets/arbimon_bin_Eleutherodactylus juanariveroi.pickle training dataset is balanced\n",
      "0 label num:  41\n",
      "1 label num:  41\n",
      "../dataset/arbimon_bin_datasets/arbimon_bin_Eleutherodactylus juanariveroi.pickle valid dataset is balanced\n",
      "0 label num:  61\n",
      "1 label num:  61\n",
      "../dataset/arbimon_bin_datasets/arbimon_bin_Eleutherodactylus juanariveroi.pickle test dataset is balanced\n",
      "0 label num:  348\n",
      "1 label num:  349\n",
      "../dataset/arbimon_bin_datasets/arbimon_bin_Percnostola lophotes.pickle training dataset is NOT balanced\n",
      "0 label num:  139\n",
      "1 label num:  139\n",
      "../dataset/arbimon_bin_datasets/arbimon_bin_Percnostola lophotes.pickle valid dataset is balanced\n",
      "0 label num:  209\n",
      "1 label num:  209\n",
      "../dataset/arbimon_bin_datasets/arbimon_bin_Percnostola lophotes.pickle test dataset is balanced\n",
      "0 label num:  307\n",
      "1 label num:  307\n",
      "../dataset/arbimon_bin_datasets/arbimon_bin_Megascops nudipes.pickle training dataset is balanced\n",
      "0 label num:  123\n",
      "1 label num:  123\n",
      "../dataset/arbimon_bin_datasets/arbimon_bin_Megascops nudipes.pickle valid dataset is balanced\n",
      "0 label num:  184\n",
      "1 label num:  184\n",
      "../dataset/arbimon_bin_datasets/arbimon_bin_Megascops nudipes.pickle test dataset is balanced\n",
      "0 label num:  492\n",
      "1 label num:  492\n",
      "../dataset/arbimon_bin_datasets/arbimon_bin_Hypocnemis subflava.pickle training dataset is balanced\n",
      "0 label num:  196\n",
      "1 label num:  197\n",
      "../dataset/arbimon_bin_datasets/arbimon_bin_Hypocnemis subflava.pickle valid dataset is NOT balanced\n",
      "0 label num:  295\n",
      "1 label num:  295\n",
      "../dataset/arbimon_bin_datasets/arbimon_bin_Hypocnemis subflava.pickle test dataset is balanced\n",
      "0 label num:  307\n",
      "1 label num:  307\n",
      "../dataset/arbimon_bin_datasets/arbimon_bin_Basileuterus bivittatus.pickle training dataset is balanced\n",
      "0 label num:  123\n",
      "1 label num:  123\n",
      "../dataset/arbimon_bin_datasets/arbimon_bin_Basileuterus bivittatus.pickle valid dataset is balanced\n",
      "0 label num:  184\n",
      "1 label num:  184\n",
      "../dataset/arbimon_bin_datasets/arbimon_bin_Basileuterus bivittatus.pickle test dataset is balanced\n",
      "0 label num:  287\n",
      "1 label num:  287\n",
      "../dataset/arbimon_bin_datasets/arbimon_bin_Eleutherodactylus brittoni.pickle training dataset is balanced\n",
      "0 label num:  114\n",
      "1 label num:  114\n",
      "../dataset/arbimon_bin_datasets/arbimon_bin_Eleutherodactylus brittoni.pickle valid dataset is balanced\n",
      "0 label num:  172\n",
      "1 label num:  172\n",
      "../dataset/arbimon_bin_datasets/arbimon_bin_Eleutherodactylus brittoni.pickle test dataset is balanced\n",
      "0 label num:  102\n",
      "1 label num:  102\n",
      "../dataset/arbimon_bin_datasets/arbimon_bin_Basileuterus chrysogaster.pickle training dataset is balanced\n",
      "0 label num:  41\n",
      "1 label num:  41\n",
      "../dataset/arbimon_bin_datasets/arbimon_bin_Basileuterus chrysogaster.pickle valid dataset is balanced\n",
      "0 label num:  61\n",
      "1 label num:  61\n",
      "../dataset/arbimon_bin_datasets/arbimon_bin_Basileuterus chrysogaster.pickle test dataset is balanced\n",
      "0 label num:  512\n",
      "1 label num:  513\n",
      "../dataset/arbimon_bin_datasets/arbimon_bin_Eleutherodactylus cochranae.pickle training dataset is NOT balanced\n",
      "0 label num:  205\n",
      "1 label num:  205\n",
      "../dataset/arbimon_bin_datasets/arbimon_bin_Eleutherodactylus cochranae.pickle valid dataset is balanced\n",
      "0 label num:  307\n",
      "1 label num:  308\n",
      "../dataset/arbimon_bin_datasets/arbimon_bin_Eleutherodactylus cochranae.pickle test dataset is NOT balanced\n",
      "0 label num:  205\n",
      "1 label num:  205\n",
      "../dataset/arbimon_bin_datasets/arbimon_bin_Unknown Insect.pickle training dataset is balanced\n",
      "0 label num:  82\n",
      "1 label num:  82\n",
      "../dataset/arbimon_bin_datasets/arbimon_bin_Unknown Insect.pickle valid dataset is balanced\n",
      "0 label num:  123\n",
      "1 label num:  123\n",
      "../dataset/arbimon_bin_datasets/arbimon_bin_Unknown Insect.pickle test dataset is balanced\n",
      "0 label num:  123\n",
      "1 label num:  123\n",
      "../dataset/arbimon_bin_datasets/arbimon_bin_Megascops guatemalae.pickle training dataset is balanced\n",
      "0 label num:  49\n",
      "1 label num:  49\n",
      "../dataset/arbimon_bin_datasets/arbimon_bin_Megascops guatemalae.pickle valid dataset is balanced\n",
      "0 label num:  73\n",
      "1 label num:  73\n",
      "../dataset/arbimon_bin_datasets/arbimon_bin_Megascops guatemalae.pickle test dataset is balanced\n",
      "0 label num:  226\n",
      "1 label num:  225\n",
      "../dataset/arbimon_bin_datasets/arbimon_bin_Chlorothraupis carmioli.pickle training dataset is NOT balanced\n",
      "0 label num:  90\n",
      "1 label num:  90\n",
      "../dataset/arbimon_bin_datasets/arbimon_bin_Chlorothraupis carmioli.pickle valid dataset is balanced\n",
      "0 label num:  135\n",
      "1 label num:  135\n",
      "../dataset/arbimon_bin_datasets/arbimon_bin_Chlorothraupis carmioli.pickle test dataset is balanced\n",
      "0 label num:  246\n",
      "1 label num:  246\n",
      "../dataset/arbimon_bin_datasets/arbimon_bin_Microcerculus marginatus.pickle training dataset is balanced\n",
      "0 label num:  98\n",
      "1 label num:  98\n",
      "../dataset/arbimon_bin_datasets/arbimon_bin_Microcerculus marginatus.pickle valid dataset is balanced\n",
      "0 label num:  148\n",
      "1 label num:  147\n",
      "../dataset/arbimon_bin_datasets/arbimon_bin_Microcerculus marginatus.pickle test dataset is NOT balanced\n",
      "0 label num:  287\n",
      "1 label num:  287\n",
      "../dataset/arbimon_bin_datasets/arbimon_bin_Liosceles thoracicus.pickle training dataset is balanced\n",
      "0 label num:  114\n",
      "1 label num:  114\n",
      "../dataset/arbimon_bin_datasets/arbimon_bin_Liosceles thoracicus.pickle valid dataset is balanced\n",
      "0 label num:  172\n",
      "1 label num:  172\n",
      "../dataset/arbimon_bin_datasets/arbimon_bin_Liosceles thoracicus.pickle test dataset is balanced\n",
      "0 label num:  205\n",
      "1 label num:  205\n",
      "../dataset/arbimon_bin_datasets/arbimon_bin_Saltator grossus.pickle training dataset is balanced\n",
      "0 label num:  82\n",
      "1 label num:  82\n",
      "../dataset/arbimon_bin_datasets/arbimon_bin_Saltator grossus.pickle valid dataset is balanced\n",
      "0 label num:  123\n",
      "1 label num:  123\n",
      "../dataset/arbimon_bin_datasets/arbimon_bin_Saltator grossus.pickle test dataset is balanced\n",
      "0 label num:  348\n",
      "1 label num:  349\n",
      "../dataset/arbimon_bin_datasets/arbimon_bin_Epinephelus guttatus.pickle training dataset is NOT balanced\n",
      "0 label num:  139\n",
      "1 label num:  139\n",
      "../dataset/arbimon_bin_datasets/arbimon_bin_Epinephelus guttatus.pickle valid dataset is balanced\n",
      "0 label num:  209\n",
      "1 label num:  209\n",
      "../dataset/arbimon_bin_datasets/arbimon_bin_Epinephelus guttatus.pickle test dataset is balanced\n"
     ]
    }
   ],
   "source": [
    "genBinDatasets(bin_folders, sizes, '../dataset/arbimon_bin_datasets')"
   ]
  },
  {
   "cell_type": "code",
   "execution_count": null,
   "metadata": {
    "collapsed": true
   },
   "outputs": [],
   "source": []
  }
 ],
 "metadata": {
  "kernelspec": {
   "display_name": "Python 3",
   "language": "python",
   "name": "python3"
  },
  "language_info": {
   "codemirror_mode": {
    "name": "ipython",
    "version": 3
   },
   "file_extension": ".py",
   "mimetype": "text/x-python",
   "name": "python",
   "nbconvert_exporter": "python",
   "pygments_lexer": "ipython3",
   "version": "3.6.3"
  }
 },
 "nbformat": 4,
 "nbformat_minor": 2
}
