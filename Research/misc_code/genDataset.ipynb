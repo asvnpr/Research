{
 "cells": [
  {
   "cell_type": "code",
   "execution_count": 1,
   "metadata": {
    "collapsed": true,
    "deletable": true,
    "editable": true
   },
   "outputs": [],
   "source": [
    "# dependencies\n",
    "from os import listdir\n",
    "from random import choice\n",
    "import pylab\n",
    "import wave\n",
    "import openpyxl\n",
    "import yaml"
   ]
  },
  {
   "cell_type": "markdown",
   "metadata": {
    "deletable": true,
    "editable": true
   },
   "source": [
    "In this notebook, we declare functions to obtain a dataset from an Excel ROI file.  \n",
    "Dataset will be a dictionary of form:  \n",
    "{\n",
    "species:  \n",
    "    {  \n",
    "        min_freqs:[list]  \n",
    "        max_freqs:[list]  \n",
    "        start_time:[list]  \n",
    "        end_time:[list]  \n",
    "        recording name:[list]  \n",
    "    }  \n",
    "    ...  \n",
    "}  \n",
    "We also have a function to create a simplified dataset of form:\n",
    "{  \n",
    "species:  \n",
    "    {  \n",
    "        min_freq:val  \n",
    "        max_freq:val  \n",
    "        avg_time:val  \n",
    "        recording name:[list]  \n",
    "    }  \n",
    "    ...  \n",
    "}  \n",
    "     \n",
    "We will save these dictionaries as yaml files"
   ]
  },
  {
   "cell_type": "code",
   "execution_count": 2,
   "metadata": {
    "collapsed": true,
    "deletable": true,
    "editable": true
   },
   "outputs": [],
   "source": [
    "def wavInfo(rec_file):\n",
    "    wav_file = wave.open(rec_file, 'r')\n",
    "    frames = wav_file.readframes(-1)\n",
    "    wave_info = pylab.fromstring(frames, 'Int16') #all .wavs in our dataset are 16bit\n",
    "    framerate = wav_file.getframerate()\n",
    "    wav_file.close()\n",
    "    return wave_info, framerate"
   ]
  },
  {
   "cell_type": "code",
   "execution_count": 3,
   "metadata": {
    "collapsed": true,
    "deletable": true,
    "editable": true
   },
   "outputs": [],
   "source": [
    "# get info. don't graph\n",
    "def specInfo(rec_file):\n",
    "    wave_info, framerate = wavInfo(rec_file)\n",
    "    spectrum, freqs, t, _ = pylab.specgram(wave_info, NFFT=512, noverlap=256, window=pylab.window_hanning, Fs=framerate)\n",
    "    del _\n",
    "    return spectrum, freqs, t\n",
    "    #pylab.savefig(\"%s_spectrogram.png\" % rec_file)"
   ]
  },
  {
   "cell_type": "code",
   "execution_count": 4,
   "metadata": {
    "collapsed": true,
    "deletable": true,
    "editable": true
   },
   "outputs": [],
   "source": [
    "# search for the index of the leftmost value in an ordered array \n",
    "# (of times or frequencies in our case) that still meet our criteria\n",
    "def leftmostBinSearch(A, lo, hi, target):\n",
    "    mid = (lo + hi) // 2\n",
    "    v1 = A[mid]\n",
    "    if (v1 >= target):\n",
    "        if (mid > 0 and A[mid - 1] > target):\n",
    "            return leftmostBinSearch(A, lo, mid-1, target)\n",
    "        else:\n",
    "            return mid\n",
    "    elif (A[mid] < target):\n",
    "        return leftmostBinSearch(A, mid+1, hi, target)\n",
    "    else:\n",
    "        return leftmostBinSearch(A, lo, mid-1, target)\n",
    "\n",
    "# search for the index of the rightmost value in an ordered array \n",
    "# (of times or frequencies in our case) that still meet our criteria\n",
    "def rightmostBinSearch(A, lo, hi, target): # something is wrong and it's giving me 1 to the right \n",
    "    mid = (lo + hi) // 2\n",
    "    v1 = A[mid]\n",
    "    if (v1 <= target):\n",
    "        if (mid < (len(A) - 1) and A[mid + 1] <= target):\n",
    "            return leftmostBinSearch(A, mid+1, hi, target)\n",
    "        else:\n",
    "            return mid\n",
    "    elif (A[mid] < target):\n",
    "        return leftmostBinSearch(A, mid+1, hi, target)\n",
    "    else:\n",
    "        return leftmostBinSearch(A, lo, mid-1, target)"
   ]
  },
  {
   "cell_type": "code",
   "execution_count": 26,
   "metadata": {
    "collapsed": true,
    "deletable": true,
    "editable": true
   },
   "outputs": [],
   "source": [
    "def getBounds(A, minVal, maxVal):\n",
    "    left = leftmostBinSearch(A, 0, len(A)-1, minVal)\n",
    "    right = rightmostBinSearch(A, 0, len(A)-1, maxVal)\n",
    "    return left, right"
   ]
  },
  {
   "cell_type": "code",
   "execution_count": 27,
   "metadata": {
    "collapsed": true,
    "deletable": true,
    "editable": true
   },
   "outputs": [],
   "source": [
    "# get modified spectrum of frequencies and times that matter to us\n",
    "def specMod(spectrum, freqs, times, f1, f2, t1, t2):\n",
    "    spectrumMod = [spectrum[f1][t1:t2]]\n",
    "    for f in range(f1+1, f2): # check when fix right limit\n",
    "            spectrumMod = spectrumMod+ [spectrum[f][t1:t2]]\n",
    "    return spectrumMod"
   ]
  },
  {
   "cell_type": "code",
   "execution_count": 28,
   "metadata": {
    "collapsed": true,
    "deletable": true,
    "editable": true
   },
   "outputs": [],
   "source": [
    "# based off: http://stackoverflow.com/questions/15961979/how-do-i-plot-a-spectrogram-the-same-way-that-pylabs-specgram-does\n",
    "# plot the spectrogram of our region of interest\n",
    "def plotModSpec(specMod, freqs, times, file):\n",
    "    \n",
    "    fig = pylab.figure(num=None, figsize=(19, 12))\n",
    "    fig.xlabel(\"Time (s)\")\n",
    "    fig.ylabel(\"Frequency (Hz)\")\n",
    "    fig.title('Spectrogram of %s' % file.split('/')[-1])\n",
    "    fig.axis('tight')\n",
    "    fig.xlim(times[0],times[-1])\n",
    "    fig.pcolormesh(times, freqs, 10 * pylab.log10(specMod))\n",
    "    fig.axis('tight')\n",
    "    fig.ylim(freqs[0],freqs[-1])\n",
    "    fig.show()\n",
    "    return fig"
   ]
  },
  {
   "cell_type": "code",
   "execution_count": 10,
   "metadata": {
    "collapsed": false,
    "deletable": true,
    "editable": true
   },
   "outputs": [],
   "source": [
    "def speciesData(workbook):\n",
    "    roi_ws = openpyxl.load_workbook(workbook)['ROIs'] # should change accordingly to where and how you data is stored\n",
    "    dataset = {}\n",
    "    # needed format:\n",
    "    # species specimen per row\n",
    "    # columns: species name, start_time, end_time, min_freq, max_freq, recording name\n",
    "    # columns A to F\n",
    "    sheetMatrix = list(roi_ws.iter_rows())\n",
    "    # remove row with column names and create array of keys per species. (e.g. start_time, end_time, ...)\n",
    "    keys = sheetMatrix.pop(0) \n",
    "    for row in sheetMatrix:\n",
    "        speciesName = row[0].value\n",
    "        if (speciesName not in dataset):\n",
    "            dataset[speciesName] = {}\n",
    "        for col in range(1,len(row)):\n",
    "            cell = ''\n",
    "            # change recording extension since we are dealing with wav files\n",
    "            if (col == 5):\n",
    "                cell = row[col].value.split('.')[0]\n",
    "                cell += '.wav'\n",
    "            else:\n",
    "                cell = row[col].value\n",
    "            # if per species key is not present add the key and add the value as the first element in a list\n",
    "            if (keys[col].value not in dataset[speciesName]): \n",
    "                dataset[speciesName][keys[col].value] = [cell]\n",
    "            # append to the list of attributes \n",
    "            else:\n",
    "                dataset[speciesName][keys[col].value] = dataset[speciesName][keys[col].value] + [cell]\n",
    "    return dataset"
   ]
  },
  {
   "cell_type": "code",
   "execution_count": 11,
   "metadata": {
    "collapsed": true,
    "deletable": true,
    "editable": true
   },
   "outputs": [],
   "source": [
    "def dataToYAML(data, name): # convert speciesData dictionary to yaml and save file\n",
    "    # need to check if file exists then delete it\n",
    "    dataset = open(name, 'w')\n",
    "    dump = yaml.dump(data, dataset, default_flow_style=False)"
   ]
  },
  {
   "cell_type": "code",
   "execution_count": 12,
   "metadata": {
    "collapsed": true,
    "deletable": true,
    "editable": true
   },
   "outputs": [],
   "source": [
    "def findMax(L):\n",
    "    Max = float('-inf')\n",
    "    for n in L:\n",
    "        if (n > Max):\n",
    "            Max = n\n",
    "    return Max\n",
    "\n",
    "def findMin(L):\n",
    "    Min = float('inf')\n",
    "    for n in L:\n",
    "        if (n < Min):\n",
    "            Min = n\n",
    "    return Min"
   ]
  },
  {
   "cell_type": "code",
   "execution_count": 13,
   "metadata": {
    "collapsed": true,
    "deletable": true,
    "editable": true
   },
   "outputs": [],
   "source": [
    "#need to decide if exceed bounds of spectrograms or restrict\n",
    "# WIP. time data is wrong. need to find average time duration\n",
    "def simplifiedSpeciesData(data): \n",
    "    simplDat = {}\n",
    "    for species in data:\n",
    "        min_freqs = data[species]['min_frequency']\n",
    "        max_freqs = data[species]['max_frequency']\n",
    "        min_times = data[species]['start_time']\n",
    "        max_times = data[species]['end_time']\n",
    "        min_f = findMin(min_freqs)\n",
    "        max_f = findMax(max_freqs)\n",
    "        start = findMin(min_times)\n",
    "        end = findMax(max_times)\n",
    "        simplDat[species] = {'min_freq':min_f, 'max_freq':max_f, 'delta_time':(end - start), 'recording name':data[species]['recording name']}\n",
    "    return simplDat\n",
    "        "
   ]
  },
  {
   "cell_type": "code",
   "execution_count": 14,
   "metadata": {
    "collapsed": false,
    "deletable": true,
    "editable": true
   },
   "outputs": [],
   "source": [
    "workbook = '../dataset/validationsAndROIs.xlsx'\n",
    "data = speciesData(workbook)\n",
    "dataToYAML(data, 'dataset.yaml')\n",
    "simpleData = simplifiedSpeciesData(data)\n",
    "dataToYAML(simpleData, 'simplifiedDataset.yaml')"
   ]
  }
 ],
 "metadata": {
  "kernelspec": {
   "display_name": "Python 3",
   "language": "python",
   "name": "python3"
  },
  "language_info": {
   "codemirror_mode": {
    "name": "ipython",
    "version": 3
   },
   "file_extension": ".py",
   "mimetype": "text/x-python",
   "name": "python",
   "nbconvert_exporter": "python",
   "pygments_lexer": "ipython3",
   "version": "3.6.0"
  }
 },
 "nbformat": 4,
 "nbformat_minor": 2
}
